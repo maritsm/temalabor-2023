{
 "cells": [
  {
   "cell_type": "code",
   "execution_count": 1,
   "id": "d373a0ec",
   "metadata": {},
   "outputs": [
    {
     "data": {
      "text/html": [
       "<style>.container { width:100% !important; }</style>"
      ],
      "text/plain": [
       "<IPython.core.display.HTML object>"
      ]
     },
     "metadata": {},
     "output_type": "display_data"
    }
   ],
   "source": [
    "import pandas as pd\n",
    "import networkx as nx\n",
    "import numpy as np\n",
    "import matplotlib.pyplot as plt\n",
    "import csv\n",
    "import datetime\n",
    "\n",
    "from IPython.display import display, HTML\n",
    "display(HTML(\"<style>.container { width:100% !important; }</style>\")) #ez hogy a rákban nem a defaultja a jupyternek?\n",
    "\n",
    "# saját függvényeink\n",
    "from functions import *"
   ]
  },
  {
   "cell_type": "code",
   "execution_count": 2,
   "metadata": {},
   "outputs": [],
   "source": [
    "bipartite_data = createNxGraph()\n",
    "projected_graph = listMEPs()\n",
    "mep_social_network = nx.algorithms.bipartite.projected_graph(bipartite_data, projected_graph)"
   ]
  },
  {
   "cell_type": "markdown",
   "id": "9f90aedd",
   "metadata": {},
   "source": [
    "# SPLITTING THE DATA"
   ]
  },
  {
   "cell_type": "code",
   "execution_count": 27,
   "id": "6925fd61",
   "metadata": {
    "scrolled": true
   },
   "outputs": [],
   "source": [
    "import datetime"
   ]
  },
  {
   "cell_type": "code",
   "execution_count": 28,
   "id": "72c19236",
   "metadata": {},
   "outputs": [],
   "source": [
    "ENTIRE_DATASET[\"Date\"] = pd.to_datetime(ENTIRE_DATASET[\"Date\"], format = \"%d/%m/%Y\")"
   ]
  },
  {
   "cell_type": "code",
   "execution_count": 35,
   "id": "a4585a2f",
   "metadata": {},
   "outputs": [],
   "source": [
    "# https://stackoverflow.com/questions/55268578/split-dataframe-by-month\n",
    "\n",
    "# groupby your key and freq\n",
    "g = ENTIRE_DATASET.groupby(pd.Grouper(key='Date', freq='M'))\n",
    "# groups to a list of dataframes with list comprehension\n",
    "split_data = [group for _,group in g]"
   ]
  },
  {
   "cell_type": "code",
   "execution_count": 36,
   "id": "39f79e28",
   "metadata": {},
   "outputs": [],
   "source": [
    "## clean this shit up\n",
    "pd.options.mode.chained_assignment = None  # default='warn'\n",
    "for i in split_data:\n",
    "    i.drop(columns=[\"Committee\", \"Dossier\", \"DocumentType\", \"PENumber\"], inplace = True)\n",
    "pd.options.mode.chained_assignment = 'warn'\n"
   ]
  },
  {
   "cell_type": "code",
   "execution_count": 38,
   "metadata": {},
   "outputs": [],
   "source": [
    "## we save the split data into ./db/split\n",
    "\n",
    "for i, x in enumerate(split_data):\n",
    "    x.to_csv(f\"./db/split/{i}.csv\")"
   ]
  },
  {
   "cell_type": "markdown",
   "id": "2ce3f636",
   "metadata": {},
   "source": [
    "^- Ennyi adatpontunk van intervallumonként. Nekem balanceoltnak tűnik őszintén szólva."
   ]
  },
  {
   "cell_type": "markdown",
   "id": "c0e3dde5",
   "metadata": {},
   "source": [
    "TODO: ezt a lentebbi analízist új notebookban kéne\n",
    "\n",
    "Most megcsináljuk basically ugyanazt az analízist mint fönt, csak minden intervallumra külön."
   ]
  },
  {
   "cell_type": "code",
   "execution_count": 8,
   "metadata": {},
   "outputs": [
    {
     "name": "stdout",
     "output_type": "stream",
     "text": [
      "set()\n",
      "0\n"
     ]
    }
   ],
   "source": [
    "def listMEPs_div(GDataset): # listing the different MEP names for the given dataset\n",
    "    o = pd.unique(GDataset['MEPName'])\n",
    "    return o\n",
    "ListsMEP = [set(listMEPs_div(miniGraph)) for miniGraph in split_data]#list for each subgraph\n",
    "#print(ListsMEP)\n",
    "meps_who_did_something_in_all_intervals = set.intersection(*ListsMEP)\n",
    "print(meps_who_did_something_in_all_intervals)\n",
    "print(len(meps_who_did_something_in_all_intervals))"
   ]
  },
  {
   "cell_type": "code",
   "execution_count": 9,
   "id": "11a984e5",
   "metadata": {},
   "outputs": [
    {
     "name": "stdout",
     "output_type": "stream",
     "text": [
      "{}\n",
      "{}\n"
     ]
    }
   ],
   "source": [
    "by_country = {}\n",
    "by_polgroup = {}\n",
    "for mep in meps_who_did_something_in_all_intervals:\n",
    "    curr_country = getMEPData(\"MEPName\", mep)[\"MemberState\"]\n",
    "    curr_polgroup = getMEPData(\"MEPName\", mep)[\"EPGroup\"]\n",
    "    if curr_country not in by_country:\n",
    "        by_country[curr_country] = 0\n",
    "    if curr_polgroup not in by_polgroup:\n",
    "        by_polgroup[curr_polgroup] = 0\n",
    "    by_country[curr_country] += 1\n",
    "    by_polgroup[curr_polgroup] += 1\n",
    "\n",
    "print(by_country)\n",
    "print(by_polgroup)\n",
    "    "
   ]
  },
  {
   "cell_type": "code",
   "execution_count": null,
   "metadata": {},
   "outputs": [],
   "source": []
  }
 ],
 "metadata": {
  "kernelspec": {
   "display_name": "Python 3",
   "language": "python",
   "name": "python3"
  },
  "language_info": {
   "codemirror_mode": {
    "name": "ipython",
    "version": 3
   },
   "file_extension": ".py",
   "mimetype": "text/x-python",
   "name": "python",
   "nbconvert_exporter": "python",
   "pygments_lexer": "ipython3",
   "version": "3.10.12"
  },
  "orig_nbformat": 4,
  "vscode": {
   "interpreter": {
    "hash": "df657c42ffabd81f9be5aedeaf438ee88f88a1b63551a526ed49ba8a75d7a743"
   }
  }
 },
 "nbformat": 4,
 "nbformat_minor": 2
}
