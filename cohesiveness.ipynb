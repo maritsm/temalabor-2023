{
 "cells": [
  {
   "cell_type": "code",
   "execution_count": 1,
   "metadata": {},
   "outputs": [
    {
     "data": {
      "text/html": [
       "<style>.container { width:100% !important; }</style>"
      ],
      "text/plain": [
       "<IPython.core.display.HTML object>"
      ]
     },
     "metadata": {},
     "output_type": "display_data"
    }
   ],
   "source": [
    "import pandas as pd\n",
    "import networkx as nx\n",
    "import numpy as np\n",
    "import matplotlib.pyplot as plt\n",
    "import csv\n",
    "import datetime\n",
    "\n",
    "from IPython.display import display, HTML\n",
    "display(HTML(\"<style>.container { width:100% !important; }</style>\")) #ez hogy a rákban nem a defaultja a jupyternek?\n",
    "\n",
    "# saját függvényeink\n",
    "from functions import *"
   ]
  },
  {
   "cell_type": "code",
   "execution_count": 5,
   "metadata": {},
   "outputs": [],
   "source": [
    "monthly_bipartite = acquireSplitData()\n",
    "projected_graph = listMEPs()"
   ]
  },
  {
   "cell_type": "code",
   "execution_count": 14,
   "metadata": {},
   "outputs": [],
   "source": [
    "months = []\n",
    "for month in monthly_bipartite:\n",
    "    nxgraph = nx.from_pandas_edgelist(month, source='AmendmentID', target='MEPName')\n",
    "    meps = pd.unique(month['MEPName'])\n",
    "    #print(nx.algorithms.bipartite.projected_graph(nxgraph, meps).nodes)\n",
    "    months.append(nx.algorithms.bipartite.projected_graph(nxgraph, meps))"
   ]
  },
  {
   "cell_type": "code",
   "execution_count": 15,
   "metadata": {},
   "outputs": [
    {
     "name": "stdout",
     "output_type": "stream",
     "text": [
      "[<networkx.classes.graph.Graph object at 0x7f23e3b3ab30>, <networkx.classes.graph.Graph object at 0x7f23e3b3b2e0>, <networkx.classes.graph.Graph object at 0x7f23e3b39660>, <networkx.classes.graph.Graph object at 0x7f23e47cea10>, <networkx.classes.graph.Graph object at 0x7f2422790190>, <networkx.classes.graph.Graph object at 0x7f23e5c01450>, <networkx.classes.graph.Graph object at 0x7f23e3b3a5f0>, <networkx.classes.graph.Graph object at 0x7f23e3b39bd0>, <networkx.classes.graph.Graph object at 0x7f23e3b395a0>, <networkx.classes.graph.Graph object at 0x7f23e3b39c30>, <networkx.classes.graph.Graph object at 0x7f23e3b3b430>, <networkx.classes.graph.Graph object at 0x7f23e3b39ed0>, <networkx.classes.graph.Graph object at 0x7f23e3b39e70>, <networkx.classes.graph.Graph object at 0x7f23e3b39300>, <networkx.classes.graph.Graph object at 0x7f23e3b3ba00>, <networkx.classes.graph.Graph object at 0x7f23e4790730>, <networkx.classes.graph.Graph object at 0x7f23e4790ac0>, <networkx.classes.graph.Graph object at 0x7f23e4790b20>, <networkx.classes.graph.Graph object at 0x7f23e4791510>, <networkx.classes.graph.Graph object at 0x7f23e4791630>, <networkx.classes.graph.Graph object at 0x7f23e4791b70>, <networkx.classes.graph.Graph object at 0x7f23e47917b0>, <networkx.classes.graph.Graph object at 0x7f23e4792170>, <networkx.classes.graph.Graph object at 0x7f23e4791ff0>, <networkx.classes.graph.Graph object at 0x7f23e4792560>, <networkx.classes.graph.Graph object at 0x7f23e4793250>, <networkx.classes.graph.Graph object at 0x7f23e4793850>, <networkx.classes.graph.Graph object at 0x7f23e4793a90>, <networkx.classes.graph.Graph object at 0x7f23e4793d60>, <networkx.classes.graph.Graph object at 0x7f23e3dd0340>, <networkx.classes.graph.Graph object at 0x7f23e3dd0040>, <networkx.classes.graph.Graph object at 0x7f23e3dd03d0>, <networkx.classes.graph.Graph object at 0x7f23e3dd0940>, <networkx.classes.graph.Graph object at 0x7f23e3dd0c40>, <networkx.classes.graph.Graph object at 0x7f23e3dd09d0>, <networkx.classes.graph.Graph object at 0x7f23e3dd11b0>, <networkx.classes.graph.Graph object at 0x7f23e3dd14e0>, <networkx.classes.graph.Graph object at 0x7f23e3dd17b0>, <networkx.classes.graph.Graph object at 0x7f23e3dd1a80>]\n"
     ]
    }
   ],
   "source": [
    "print([])"
   ]
  },
  {
   "cell_type": "code",
   "execution_count": null,
   "metadata": {},
   "outputs": [],
   "source": []
  }
 ],
 "metadata": {
  "kernelspec": {
   "display_name": "Python 3",
   "language": "python",
   "name": "python3"
  },
  "language_info": {
   "codemirror_mode": {
    "name": "ipython",
    "version": 3
   },
   "file_extension": ".py",
   "mimetype": "text/x-python",
   "name": "python",
   "nbconvert_exporter": "python",
   "pygments_lexer": "ipython3",
   "version": "3.10.12"
  },
  "orig_nbformat": 4
 },
 "nbformat": 4,
 "nbformat_minor": 2
}
