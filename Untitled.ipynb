{
 "cells": [
  {
   "cell_type": "code",
   "execution_count": 1,
   "id": "87bbe316",
   "metadata": {},
   "outputs": [],
   "source": [
    "\n",
    "import networkx as nx\n",
    "from networkx.algorithms import bipartite\n",
    "\n",
    "n = 1000\n",
    "\n",
    "# Create a bipartite graph\n",
    "G = nx.Graph()\n",
    "\n",
    "part0 = [(i, 0) for i in range(n)]\n",
    "part1 = [(i, 1) for i in range(n)]\n",
    "\n",
    "G.add_nodes_from(part0, bipartite=0)  # Add nodes to partition 0\n",
    "G.add_nodes_from(part1, bipartite=1)  # Add nodes to partition 1\n",
    "G.add_edges_from([((i,0), (j,1)) for i in range(n) for j in range(n)])  # Add edges between partition\n"
   ]
  },
  {
   "cell_type": "code",
   "execution_count": 2,
   "id": "23eb127e",
   "metadata": {},
   "outputs": [
    {
     "name": "stdout",
     "output_type": "stream",
     "text": [
      "CPU times: user 2min 37s, sys: 56.7 ms, total: 2min 37s\n",
      "Wall time: 2min 37s\n"
     ]
    }
   ],
   "source": [
    "%%time\n",
    "# Project the graph onto partition 0\n",
    "P = bipartite.projected_graph(G, part0)\n",
    "\n",
    "# Print the nodes and edges of the projected graph\n",
    "#print(\"Nodes in projected graph:\")\n",
    "#print(P.nodes())\n",
    "#print(\"Edges in projected graph:\")\n",
    "#print(P.edges())"
   ]
  },
  {
   "cell_type": "markdown",
   "id": "62e70465",
   "metadata": {},
   "source": [
    "Nem értem miért tart ilyen sokáig."
   ]
  },
  {
   "cell_type": "markdown",
   "id": "0c94d2d2",
   "metadata": {},
   "source": []
  }
 ],
 "metadata": {
  "kernelspec": {
   "display_name": "Python 3 (ipykernel)",
   "language": "python",
   "name": "python3"
  },
  "language_info": {
   "codemirror_mode": {
    "name": "ipython",
    "version": 3
   },
   "file_extension": ".py",
   "mimetype": "text/x-python",
   "name": "python",
   "nbconvert_exporter": "python",
   "pygments_lexer": "ipython3",
   "version": "3.10.12"
  }
 },
 "nbformat": 4,
 "nbformat_minor": 5
}
