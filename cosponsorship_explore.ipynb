{
 "cells": [
  {
   "cell_type": "code",
   "execution_count": 2,
   "metadata": {},
   "outputs": [],
   "source": [
    "from all import *"
   ]
  },
  {
   "cell_type": "code",
   "execution_count": 3,
   "metadata": {},
   "outputs": [],
   "source": [
    "cosp = COSPONSORSHIP_EDGELIST"
   ]
  },
  {
   "cell_type": "code",
   "execution_count": 4,
   "metadata": {},
   "outputs": [
    {
     "name": "stdout",
     "output_type": "stream",
     "text": [
      "         amendment_id  person_id   person_full_name document_eu_id  \\\n",
      "0                  18       1898      Ilana Cicurel      PE749.912   \n",
      "1                  37       2002  Isabel Carvalhais      PE657.419   \n",
      "2                  38       2002  Isabel Carvalhais      PE657.419   \n",
      "3                  47       1369      Pascal Canfin      PE736.476   \n",
      "4                  50       1369      Pascal Canfin      PE736.476   \n",
      "...               ...        ...                ...            ...   \n",
      "1172013        448512        216       Rovana Plumb      PE738.577   \n",
      "1172014        448512       2033     Andris Ameriks      PE738.577   \n",
      "1172015        448512       1955     Erik Bergkvist      PE738.577   \n",
      "1172016        448512       2383   Andreas Schieder      PE738.577   \n",
      "1172017        448512       1650      Maria Grapini      PE738.577   \n",
      "\n",
      "        procedure_interinst_id        date  \n",
      "0               2022/0906(COD)  2023-06-13  \n",
      "1               2020/0095(COD)  2020-10-06  \n",
      "2               2020/0095(COD)  2020-10-06  \n",
      "3               2021/0423(COD)  2022-09-15  \n",
      "4               2021/0423(COD)  2022-09-15  \n",
      "...                        ...         ...  \n",
      "1172013         2021/0420(COD)  2023-01-25  \n",
      "1172014         2021/0420(COD)  2023-01-25  \n",
      "1172015         2021/0420(COD)  2023-01-25  \n",
      "1172016         2021/0420(COD)  2023-01-25  \n",
      "1172017         2021/0420(COD)  2023-01-25  \n",
      "\n",
      "[1172018 rows x 6 columns]\n"
     ]
    }
   ],
   "source": [
    "print(cosp)"
   ]
  },
  {
   "cell_type": "code",
   "execution_count": 6,
   "metadata": {},
   "outputs": [],
   "source": [
    "cosp_nx = nx.from_pandas_edgelist(cosp, source =\"amendment_id\", target = \"person_full_name\")"
   ]
  },
  {
   "cell_type": "code",
   "execution_count": 7,
   "metadata": {},
   "outputs": [
    {
     "data": {
      "text/plain": [
       "<networkx.classes.graph.Graph at 0x7ff8e531d720>"
      ]
     },
     "execution_count": 7,
     "metadata": {},
     "output_type": "execute_result"
    }
   ],
   "source": [
    "cosp_nx"
   ]
  },
  {
   "cell_type": "code",
   "execution_count": null,
   "metadata": {},
   "outputs": [],
   "source": []
  }
 ],
 "metadata": {
  "kernelspec": {
   "display_name": "Python 3",
   "language": "python",
   "name": "python3"
  },
  "language_info": {
   "codemirror_mode": {
    "name": "ipython",
    "version": 3
   },
   "file_extension": ".py",
   "mimetype": "text/x-python",
   "name": "python",
   "nbconvert_exporter": "python",
   "pygments_lexer": "ipython3",
   "version": "3.10.12"
  }
 },
 "nbformat": 4,
 "nbformat_minor": 2
}
