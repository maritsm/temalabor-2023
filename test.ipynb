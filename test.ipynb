{
 "cells": [
  {
   "cell_type": "code",
   "execution_count": 2,
   "metadata": {},
   "outputs": [
    {
     "data": {
      "text/html": [
       "<style>.container { width:100% !important; }</style>"
      ],
      "text/plain": [
       "<IPython.core.display.HTML object>"
      ]
     },
     "metadata": {},
     "output_type": "display_data"
    }
   ],
   "source": [
    "import pandas as pd\n",
    "import networkx as nx\n",
    "import numpy as np\n",
    "import matplotlib.pyplot as plt\n",
    "import csv\n",
    "import datetime\n",
    "\n",
    "from IPython.display import display, HTML\n",
    "display(HTML(\"<style>.container { width:100% !important; }</style>\")) #ez hogy a rákban nem a defaultja a jupyternek?\n",
    "\n",
    "# saját függvényeink\n",
    "from functions import *"
   ]
  },
  {
   "cell_type": "code",
   "execution_count": 16,
   "metadata": {},
   "outputs": [
    {
     "name": "stdout",
     "output_type": "stream",
     "text": [
      "Empty DataFrame\n",
      "Columns: [person_official_id, person_name]\n",
      "Index: []\n"
     ]
    }
   ],
   "source": [
    "o = MEPLIST[[\"person_official_id\", \"person_name\"]]\n",
    "p = EPGROUP_MEMBERSHIP[[\"person_official_id\", \"epgroup_abbr\", \"start_date\", \"end_date\"]]\n",
    "o = o[o[\"person_official_id\"].isin(p)]\n",
    "print(o)"
   ]
  },
  {
   "cell_type": "code",
   "execution_count": null,
   "metadata": {},
   "outputs": [],
   "source": [
    "def listMEPs_by_polgroup(polgroup, when=None):\n",
    "    # o = pd.unique(ENTIRE_DATASET.loc[ENTIRE_DATASET['EPGroup'] == polgroup]['MEPName'])\n",
    "\n",
    "    o = MEPLIST[[\"person_official_id\", \"person_name\"]]\n",
    "    for mep in o:\n",
    "        if mep \n",
    "        if when != None:\n",
    "\n",
    "        \n",
    "\n",
    "    return o"
   ]
  }
 ],
 "metadata": {
  "kernelspec": {
   "display_name": "Python 3",
   "language": "python",
   "name": "python3"
  },
  "language_info": {
   "codemirror_mode": {
    "name": "ipython",
    "version": 3
   },
   "file_extension": ".py",
   "mimetype": "text/x-python",
   "name": "python",
   "nbconvert_exporter": "python",
   "pygments_lexer": "ipython3",
   "version": "3.10.12"
  }
 },
 "nbformat": 4,
 "nbformat_minor": 2
}
