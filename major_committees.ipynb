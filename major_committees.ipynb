{
 "cells": [
  {
   "cell_type": "code",
   "execution_count": 1,
   "metadata": {},
   "outputs": [
    {
     "data": {
      "text/html": [
       "<style>.container { width:100% !important; }</style>"
      ],
      "text/plain": [
       "<IPython.core.display.HTML object>"
      ]
     },
     "metadata": {},
     "output_type": "display_data"
    }
   ],
   "source": [
    "import pandas as pd\n",
    "import networkx as nx\n",
    "import numpy as np\n",
    "import matplotlib.pyplot as plt\n",
    "import csv\n",
    "import datetime\n",
    "\n",
    "from IPython.display import display, HTML\n",
    "display(HTML(\"<style>.container { width:100% !important; }</style>\")) #ez hogy a rákban nem a defaultja a jupyternek?\n",
    "\n",
    "# saját függvényeink\n",
    "from functions import *"
   ]
  },
  {
   "cell_type": "code",
   "execution_count": 2,
   "metadata": {},
   "outputs": [
    {
     "data": {
      "text/plain": [
       "array(['D-ZA', 'TRAN', 'CDC', 'LIBE', 'JURI', 'ACP-EU', 'INGE', 'CULT',\n",
       "       'DMAG', 'DMED', 'ANIT', 'AGRI', 'D-RS', 'PETI', 'D-JP', 'FEMM',\n",
       "       'D-US', 'DANZ', 'CONT', 'DARP', 'REGI', 'ITRE', 'DLAT', 'BUDG',\n",
       "       'ENVI', 'IMCO', 'EMPL', 'DPAL', 'AIDA', 'INTA', 'SEDE', 'DNAT',\n",
       "       'D-MX', 'PECH', 'D-BR', 'AFCO', 'DMER', 'DSAS', 'AFET', 'DEVE',\n",
       "       'DPAP', 'D-IN', 'D-RU', 'D-MK', 'D-MD', 'DEPA', 'D-UK', 'DMAS',\n",
       "       'DCAS', 'D-IQ', 'DSEE', 'ING2', 'SANT', 'DASE', 'PEGA', 'COVI',\n",
       "       'D-CA', 'ECON', 'FISC', 'D-TR', 'EP', 'D-CL', 'BURO', 'D-CN',\n",
       "       'BECA', 'D-IL', 'DEEA', 'DROI', 'CCC', 'DAND', 'DCAM', 'D-AL',\n",
       "       'COP', 'DCAR', 'D-AF', 'D-UA', 'D-BY', 'DSCA', 'QUE', 'D-ME',\n",
       "       'DKOR', 'D-IR'], dtype=object)"
      ]
     },
     "execution_count": 2,
     "metadata": {},
     "output_type": "execute_result"
    }
   ],
   "source": [
    "# organization abbreviations\n",
    "pd.unique(ORG_MEMBERSHIP[\"organization_abbr\"])"
   ]
  },
  {
   "cell_type": "code",
   "execution_count": 3,
   "metadata": {},
   "outputs": [],
   "source": [
    "important_committees = [\"ENVI\", \"AFET\", \"ITRE\"]"
   ]
  },
  {
   "cell_type": "markdown",
   "metadata": {},
   "source": [
    "Want: dataset for each important committee"
   ]
  },
  {
   "cell_type": "code",
   "execution_count": 8,
   "metadata": {},
   "outputs": [
    {
     "name": "stdout",
     "output_type": "stream",
     "text": [
      "['Eric ANDRIEU', 'Margrete AUKEN', 'Biljana BORZAN', 'Cristian-Silviu BUŞOI', 'Pascal CANFIN', 'Chris DAVIES', 'Bas EICKHOUT', 'João FERREIRA', 'Iratxe GARCÍA PÉREZ', 'Sven GIEGOLD', 'András GYÜRK', \"Sophia IN 'T VELD\", 'Yannick JADOT', 'Ska KELLER', 'Constanze KREHL', 'Esther de LANGE', 'Ryszard Antoni LEGUTKO', 'Peter LIESE', 'Anthea McINTYRE', 'Marisa MATIAS', 'Nuno MELO', 'Roberta METSOLA', 'Younous OMARJEE', 'Sirpa PIETIKÄINEN', 'Rovana PLUMB', 'Frédérique RIES', 'Christel SCHALDEMOSE', 'Dubravka ŠUICA', 'Nils TORVALDS', 'Inese VAIDERE', 'Adina-Ioana VĂLEAN', 'Nikos ANDROULAKIS', 'Maria ARENA', 'Monika BEŇOVÁ', 'Miriam DALLI', 'Malin BJÖRK', 'Simona BONAFÈ', 'Mercedes BRESSO', 'Klaus BUCHNER', 'Deirdre CLUNE', 'Seb DANCE', 'Andor DELI', 'Eleonora EVI', 'Fredrick FEDERLEY', 'Giuseppe FERRANDINO', 'Laura FERRARA', 'Raffaele FITTO', 'Jens GIESEKE', 'Marcel de GRAAFF', 'Jytte GUTELAND', 'Christophe HANSEN', 'Anja HAZEKAMP', 'Jan HUITEMA', 'Karol KARSKI', 'Kateřina KONEČNÁ', 'Danilo Oscar LANCINI', 'Norbert LINS', 'Javi LÓPEZ', 'Marian-Jean MARINESCU', 'Fulvio MARTUSCIELLO', 'Joëlle MÉLIN', 'Tilly METZ', 'Alessandra MORETTI', 'Ulrike MÜLLER', 'Dan NICA', 'Rory PALMER', 'Demetris PAPADAKIS', 'Piernicola PEDICINI', 'João PIMENTA LOPES', 'Stanislav POLČÁK', 'Massimiliano SALINI', 'Maria SPYRAKI', 'Anders VISTISEN', 'Jadwiga WIŚNIEWSKA', 'Tiemo WÖLKEN', 'Matteo ADINOLFI', 'João ALBUQUERQUE', 'Catherine AMALRIC', 'Mathilde ANDROUËT', 'Bartosz ARŁUKOWICZ', 'Simona BALDASSARRE', 'Marek Paweł BALT', 'Traian BĂSESCU', 'Aurélia BEIGNEUX', 'Hildegard BENTELE', 'Stefan BERGER', 'Sergio BERLATO', 'Alexander BERNHUBER', 'Michael BLOSS', 'Manuel BOMPARD', 'Milan BRGLEZ', 'Jane BROPHY', 'Annika BRUNA', 'Delara BURKHARDT', 'Martin BUSCHMANN', 'Carlo CALENDA', 'Sara CERDAS', 'Catherine CHABAUD', 'Mohammed CHAHIM', 'Asger CHRISTENSEN', 'Dacian CIOLOŞ', 'Tudor CIUHODARU', 'Christophe CLERGEAU', 'Nathalie COLIN-OESTERLÉ', 'Gilbert COLLARD', 'Antoni COMÍN I OLIVERES', 'Rosanna CONTE', 'Beatrice COVASSI', 'Maria Angela DANZÌ', 'Gianantonio DA RE', 'Ivan DAVID', 'Marco DREOSTO', 'Elisabetta DE BLASIS', 'Salvatore DE MEO', 'Anna DEPARNAY-GRUNENBERG', 'Petra DE SUTTER', 'Christian DOLESCHAL', 'Estrella DURÁ FERRANDIS', 'Matthias ECKE', 'Cyrus ENGERER', 'Cornelia ERNST', 'Agnès EVREN', 'Pietro FIOCCHI', 'Lance FORMAN', 'Emmanouil FRAGKOS', 'Cindy FRANSSEN', 'Heléne FRITZON', 'Malte GALLÉE', 'Claudia GAMON', 'Gianna GANCIA', 'James Alexander GLANCY', 'Sunčana GLAVAK', 'Andreas GLUECK', 'Nicolás GONZÁLEZ CASARES', 'Catherine GRISET', 'Robert HAJŠEL', 'Teuvo HAKKARAINEN', 'Martin HÄUSLING', 'Martin HOJSÍK', 'Pär HOLMGREN', 'Laura HUHTASAARI', 'Adam JARUBAS', 'Romana JERKOVIĆ', 'Christina Sheila JORDAN', 'Irena JOVEVA', 'Radan KANEV', 'Karin KARLSBRO', 'Billy KELLEHER', 'Ondřej KNOTEK', 'Petros KOKKALIS', 'Athanasios KONSTANTINOU', 'Ewa KOPACZ', 'Joanna KOPCIŃSKA', 'Stelios KYMPOUROPOULOS', 'Sylvia LIMMER', 'César LUENA', 'Mairead McGUINNESS', 'Aileen McLEOD', 'Cristina MAESTRE MARTÍN DE ALMAGRO', 'Sara MATTHIEU', 'Radka MAXOVÁ', 'Liudas MAŽYLIS', 'Dace MELBĀRDE', 'Marina MESURE', 'Giuseppe MILAZZO', 'Silvia MODIG', 'Brian MONTEITH', 'Dolors MONTSERRAT', 'Marlene MORTLER', 'Dan-Ştefan MOTREANU', 'Ville NIINISTÖ', 'Ljudmila NOVAK', 'Max ORVILLE', \"Grace O'SULLIVAN\", 'Nikos PAPANDREOU', 'Aldo PATRICIELLO', 'Jutta PAULUS', 'Francesca PEPPUCCI', 'Lídia PEREIRA', 'Alexandra Louise Rosenfield PHILLIPS', 'Margarita DE LA PISA CARRIÓN', 'Manuel PIZARRO', 'Jessica POLFJÄRD', 'Erik POULSEN', 'Nicola PROCACCINI', 'Luisa REGIMENTI', 'Manuela RIPA', 'Michèle RIVASI', 'Jérôme RIVIÈRE', 'María Soraya RODRÍGUEZ RAMOS', 'Sándor RÓNAI', 'Daniela RONDINELLI', 'Rob ROOKEN', 'Robert ROOS', 'Marcos ROS SEMPERE', 'Maria Veronica ROSSI', 'Silvia SARDONE', 'Christine SCHNEIDER', 'Günther SIDL', 'Ivan Vilibor SINČIĆ', 'Andrey SLABAKOV', 'Vincenzo SOFO', 'Tomislav SOKOL', 'Susana SOLÍS PÉREZ', 'Sylwia SPUREK', 'Nicolae ŞTEFĂNUȚĂ', 'Linea SØGAARD-LIDELL', 'Annalisa TARDINO', 'Vera TAX', 'Hermann TERTSCH', 'Róża THUN UND HOHENSTEIN', 'Grzegorz TOBISZOWSKI', 'Edina TÓTH', 'Marie TOUSSAINT', 'Véronique TRILLET-LENOIR', 'István UJHELYI', 'Achille VARIATI', 'Kyriakos VELOPOULOS', 'Idoia VILLANUEVA RUIZ', 'Nikolaj VILLUMSEN', 'Petar VITANOV', 'Caroline VOADEN', 'Alexandr VONDRA', 'Lucia VUOLO', 'Mick WALLACE', 'Pernille WEISS', 'Ann WIDDECOMBE', 'Sarah WIENER', 'Emma WIESNER', 'Michal WIEZIK', 'Chrysoula ZACHAROPOULOU', 'Anna ZALEWSKA']\n"
     ]
    }
   ],
   "source": [
    "ENVI_MEMBERS = []\n",
    "for mep in MEPLIST.values:\n",
    "    name = mep[1]\n",
    "    if isOrgMember(name, \"Committee on the Environment, Public Health and Food Safety\"):\n",
    "        ENVI_MEMBERS.append(name)\n",
    "print(ENVI_MEMBERS)"
   ]
  },
  {
   "cell_type": "code",
   "execution_count": null,
   "metadata": {},
   "outputs": [],
   "source": []
  }
 ],
 "metadata": {
  "kernelspec": {
   "display_name": "Python 3",
   "language": "python",
   "name": "python3"
  },
  "language_info": {
   "codemirror_mode": {
    "name": "ipython",
    "version": 3
   },
   "file_extension": ".py",
   "mimetype": "text/x-python",
   "name": "python",
   "nbconvert_exporter": "python",
   "pygments_lexer": "ipython3",
   "version": "3.10.12"
  }
 },
 "nbformat": 4,
 "nbformat_minor": 2
}
