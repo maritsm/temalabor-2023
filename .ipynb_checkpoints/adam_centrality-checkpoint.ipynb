{
 "cells": [
  {
   "cell_type": "markdown",
   "metadata": {},
   "source": [
    "### By years 2020 and 2021"
   ]
  },
  {
   "cell_type": "markdown",
   "metadata": {},
   "source": [
    "Let us create 2 social network graphs corresponding to the years 2020 and 2021"
   ]
  },
  {
   "cell_type": "code",
   "execution_count": 1,
   "metadata": {},
   "outputs": [],
   "source": [
    "import pandas as pd\n",
    "import networkx as nx"
   ]
  },
  {
   "cell_type": "code",
   "execution_count": 2,
   "metadata": {},
   "outputs": [],
   "source": [
    "df = pd.read_csv('./db/ep_cosponsorship_dataset.csv', header = 0, keep_default_na = False)\n",
    "df2020 = df[df['Date'].str.contains(\"2020\") == True]\n",
    "df2021 = df[df['Date'].str.contains(\"2021\") == True]\n",
    "\n",
    "list_meps_2020 = pd.unique(df2020[\"OfficialMEPID\"])\n",
    "list_meps_2021 = pd.unique(df2021[\"OfficialMEPID\"])\n",
    "\n",
    "Entire_Dataset = df"
   ]
  },
  {
   "cell_type": "code",
   "execution_count": 3,
   "metadata": {},
   "outputs": [],
   "source": [
    "def ListMEPs(Dataset):\n",
    "    # we use MEPName instead of OfficialMEPID\n",
    "    o = pd.unique(Dataset['MEPName'])\n",
    "    #print(type(o)) #DEBUG\n",
    "    return o\n",
    "\n",
    "def CreateNXGraph(Dataset):\n",
    "    \"\"\"\n",
    "    :input Dataset: A subset of the cosponsorship table in pandas df\n",
    "    :return: The nx bipartite graph of the MEPs and amendments\n",
    "    \"\"\"\n",
    "    G = nx.from_pandas_edgelist(Dataset, source='AmendmentID', target='MEPName')\n",
    "    return G\n",
    "\n",
    "def ConnectFromBipartite(myGraph, Gtype, MEP_lista):\n",
    "    \"\"\"\n",
    "    :input myGraph: A subset of the cosponsorship table in pandas df\n",
    "    :input Gtype: Type of projection to use from {\"classic\", \"collab_weight\"}\n",
    "    :input MEP_lista: List of relevant MEPs\n",
    "    :return: The simple projected Data set\n",
    "    \"\"\"\n",
    "    \n",
    "    \n",
    "    if Gtype == \"classic\":\n",
    "        G = nx.algorithms.bipartite.projected_graph(myGraph, MEP_lista)\n",
    "    elif Gtype == \"collab_weight\":\n",
    "        G = nx.algorithms.bipartite.collaboration_weighted_projected_graph(myGraph, MEP_lista)\n",
    "    return G \n",
    "\n",
    "# one example: \n",
    "#ConnectFromBipartite(CreateNXGraph(Dataset), \"collab_weight\", ListMEPs(Dataset))"
   ]
  },
  {
   "cell_type": "code",
   "execution_count": 4,
   "metadata": {},
   "outputs": [],
   "source": [
    "#mep_social_networks = ConnectFromBipartite(CreateNXGraph(Dataset), \"collab_weight\", ListMEPs(Dataset))"
   ]
  },
  {
   "cell_type": "markdown",
   "metadata": {},
   "source": [
    "Consider some famous and important centrality measures: Degree centrality, betweenness centrality, eigenvector centrality "
   ]
  },
  {
   "cell_type": "markdown",
   "metadata": {},
   "source": [
    "For 2020:"
   ]
  },
  {
   "cell_type": "code",
   "execution_count": 5,
   "metadata": {},
   "outputs": [],
   "source": [
    "def Degree_Centralities(Graph):\n",
    "    \"\"\"\n",
    "    :input Graph: Connection graph of MEPs\n",
    "    :return: List of degree centralities\n",
    "    \"\"\"\n",
    "    \n",
    "    return nx.degree_centrality(Graph)\n",
    "\n",
    "\n",
    "def Eigenvector_Centralities(Graph):\n",
    "    \"\"\"\n",
    "    :input Graph: Connection graph of MEPs\n",
    "    :return: List of degree centralities\n",
    "    \"\"\"\n",
    "    \n",
    "    return nx.eigenvector_centrality(Graph, max_iter=1000, tol=1e-06, nstart=None, weight=None)\n",
    "\n",
    "\n",
    "def Betweenness_Centralities(Graph):\n",
    "    \"\"\"\n",
    "    :input Graph: Connection graph of MEPs\n",
    "    :return: List of degree centralities\n",
    "    \"\"\"\n",
    "    \n",
    "    return nx.betweenness_centrality(Graph, k=None, normalized=True, weight=None, endpoints=False, seed=None)"
   ]
  },
  {
   "cell_type": "code",
   "execution_count": 6,
   "metadata": {},
   "outputs": [],
   "source": [
    "def acquireSplitData():\n",
    "    o = []\n",
    "    for i in range(39):\n",
    "    # the number is manual, TODO: make it automatic from the number of files in the folder:\n",
    "    # https://stackoverflow.com/questions/2632205/how-to-count-the-number-of-files-in-a-directory-using-python\n",
    "        o.append(pd.read_csv(f\"./db/split/{i}.csv\"))\n",
    "    return o\n",
    "\n",
    "Data_lista = acquireSplitData()\n",
    "\n",
    "\n",
    "#Containing all the relevant infos of graphs\n",
    "Graph_Lista_Weight = [ConnectFromBipartite(CreateNXGraph(Data), \"collab_weight\", ListMEPs(Data)) for Data in Data_lista]\n",
    "Graph_Lista_Normal = [ConnectFromBipartite(CreateNXGraph(Data), \"classic\", ListMEPs(Data)) for Data in Data_lista]"
   ]
  },
  {
   "cell_type": "code",
   "execution_count": 7,
   "metadata": {},
   "outputs": [],
   "source": [
    "Deg_Cent_Lista = [Degree_Centralities(graf) for graf in Graph_Lista_Normal]\n",
    "Eig_Cent_Lista = [Eigenvector_Centralities(graf) for graf in Graph_Lista_Normal]\n",
    "Btw_Cent_Lista = [Betweenness_Centralities(graf) for graf in Graph_Lista_Normal]"
   ]
  },
  {
   "cell_type": "code",
   "execution_count": 8,
   "metadata": {
    "scrolled": true
   },
   "outputs": [],
   "source": [
    "def Pandas_from_Centralities(Cent_lista):\n",
    "    \"\"\"\n",
    "    :input Cent_lista: list of dictionaries, each containing the centrality values of the MEPs for a give period \n",
    "    :return DF_centrality: A pandas dataframe containing centralities for each period\n",
    "    \"\"\"\n",
    "    List_Of_All_MEPs = ListMEPs(Entire_Dataset)\n",
    "    List_of_List = []\n",
    "    for Sublista in Cent_lista:\n",
    "        TMP_List = []\n",
    "        for MEP in List_Of_All_MEPs:\n",
    "            try:\n",
    "                TMP_List.append(Sublista[MEP])\n",
    "            except KeyError:  # If the MEP was not in this period's connectivity graph\n",
    "                TMP_List.append(0)\n",
    "        List_of_List.append(TMP_List)\n",
    "        \n",
    "    Column_Names = [\"MEPName\"] + [\"Interval_\"+str(i) for i in range(len(List_of_List))]\n",
    "    #creating the dictionary that the pandas wil recognise\n",
    "    Data_Dict = {\"MEPName\":List_Of_All_MEPs}\n",
    "    for i in range(1, len(Column_Names)):\n",
    "        Data_Dict[Column_Names[i]] = List_of_List[i-1]\n",
    "\n",
    "    DF_centrality = pd.DataFrame(Data_Dict)\n",
    "    \n",
    "    return DF_centrality\n",
    "\n",
    "#print(Pandas_from_Centralities(Deg_Cent_Lista))\n",
    "    "
   ]
  },
  {
   "cell_type": "markdown",
   "metadata": {},
   "source": [
    "Creating an average and sorting them by value"
   ]
  },
  {
   "cell_type": "code",
   "execution_count": 9,
   "metadata": {},
   "outputs": [],
   "source": [
    "Eig_df = Pandas_from_Centralities(Eig_Cent_Lista)\n"
   ]
  },
  {
   "cell_type": "markdown",
   "metadata": {},
   "source": [
    "Let us look at betweenness centrality first"
   ]
  },
  {
   "cell_type": "code",
   "execution_count": 10,
   "metadata": {},
   "outputs": [
    {
     "ename": "NameError",
     "evalue": "name 'Btw_Cent_2020' is not defined",
     "output_type": "error",
     "traceback": [
      "\u001b[1;31m---------------------------------------------------------------------------\u001b[0m",
      "\u001b[1;31mNameError\u001b[0m                                 Traceback (most recent call last)",
      "Cell \u001b[1;32mIn[10], line 1\u001b[0m\n\u001b[1;32m----> 1\u001b[0m x \u001b[38;5;241m=\u001b[39m [Btw_Cent_2020[i][\u001b[38;5;241m0\u001b[39m] \u001b[38;5;28;01mfor\u001b[39;00m i \u001b[38;5;129;01min\u001b[39;00m \u001b[38;5;28mrange\u001b[39m(\u001b[38;5;28mlen\u001b[39m(Btw_Cent_2020[:\u001b[38;5;241m10\u001b[39m]))] \u001b[38;5;66;03m# top 10 MEP according to betweenness centrality in 2020\u001b[39;00m\n\u001b[0;32m      2\u001b[0m y1 \u001b[38;5;241m=\u001b[39m [Btw_Cent_2020_UnSort[x[i]] \u001b[38;5;28;01mfor\u001b[39;00m i \u001b[38;5;129;01min\u001b[39;00m \u001b[38;5;28mrange\u001b[39m(\u001b[38;5;28mlen\u001b[39m(x)) ]         \u001b[38;5;66;03m#betweenness centrality values top 10 MEP in 2020\u001b[39;00m\n\u001b[0;32m      3\u001b[0m y2\u001b[38;5;241m=\u001b[39m[]                                                             \u001b[38;5;66;03m#betweenness centrality values top 10 MEP in 2021\u001b[39;00m\n",
      "\u001b[1;31mNameError\u001b[0m: name 'Btw_Cent_2020' is not defined"
     ]
    }
   ],
   "source": [
    "x = [Btw_Cent_2020[i][0] for i in range(len(Btw_Cent_2020[:10]))] # top 10 MEP according to betweenness centrality in 2020\n",
    "y1 = [Btw_Cent_2020_UnSort[x[i]] for i in range(len(x)) ]         #betweenness centrality values top 10 MEP in 2020\n",
    "y2=[]                                                             #betweenness centrality values top 10 MEP in 2021\n",
    "for i in range(len(x)):\n",
    "    try: \n",
    "        y2.append(Btw_Cent_2021_UnSort[x[i]])\n",
    "    except: \n",
    "        y2.append(0)\n",
    "          \n",
    "\n",
    "print(Btw_Cent_2021[:10])\n",
    "print(x)\n",
    "print(y1)\n",
    "print(y2)"
   ]
  },
  {
   "cell_type": "code",
   "execution_count": null,
   "metadata": {},
   "outputs": [],
   "source": [
    "X_axis = np.arange(len(x))\n",
    "\n",
    "plt.bar(X_axis - 0.2, y1, 0.4, label = '2020 Centrality')\n",
    "plt.bar(X_axis + 0.2, y2, 0.4, label = '2021 Centrality')\n",
    "  \n",
    "plt.xticks(X_axis, x, rotation = 90)\n",
    "plt.xlabel(\"MEPs\")\n",
    "plt.ylabel(\"Betweenness centrality\")\n",
    "plt.title(\"Betweenness centrality changes:\")\n",
    "plt.legend()\n",
    "plt.show()"
   ]
  },
  {
   "cell_type": "markdown",
   "metadata": {},
   "source": [
    "Basically the above graph represents the betweenness centrality changes for the top 10 EMPs (according to measurements from 2020)"
   ]
  },
  {
   "cell_type": "markdown",
   "metadata": {},
   "source": [
    "Let us also look at Eigenvector Centrality but now let us observe the centrality measures in 2020, for the top 10 most influential MEPs (according to 2021 measurements). That is who the benificiaries of the changes were from 2020 to 2021."
   ]
  },
  {
   "cell_type": "code",
   "execution_count": null,
   "metadata": {},
   "outputs": [],
   "source": [
    "x = [Eig_Cent_2021[i][0] for i in range(len(Eig_Cent_2021[:10]))] # top 10 MEP according to eigenvector centrality in 2021\n",
    "y2 = [Eig_Cent_2021_UnSort[x[i]] for i in range(len(x)) ]         #eigenvector centrality values top 10 MEP in 2021\n",
    "y1=[]                                                             #eigenvector centrality values top 10 MEP in 2020\n",
    "for i in range(len(x)):\n",
    "    try: \n",
    "        y1.append(Eig_Cent_2020_UnSort[x[i]])\n",
    "    except: \n",
    "        y1.append(0)\n",
    "          \n",
    "\n",
    "print(Eig_Cent_2021[:10])\n",
    "print(x)\n",
    "print(y1)\n",
    "print(y2)"
   ]
  },
  {
   "cell_type": "code",
   "execution_count": null,
   "metadata": {},
   "outputs": [],
   "source": [
    "X_axis = np.arange(len(x))\n",
    "\n",
    "plt.bar(X_axis - 0.2, y1, 0.4, label = '2020 Centrality')\n",
    "plt.bar(X_axis + 0.2, y2, 0.4, label = '2021 Centrality')\n",
    "  \n",
    "plt.xticks(X_axis, x, rotation = 90)\n",
    "plt.xlabel(\"MEPs\")\n",
    "plt.ylabel(\"Eigenvector centrality\")\n",
    "plt.title(\"Eigenvector centrality changes:\")\n",
    "plt.legend()\n",
    "plt.show()"
   ]
  },
  {
   "cell_type": "code",
   "execution_count": null,
   "metadata": {},
   "outputs": [],
   "source": []
  }
 ],
 "metadata": {
  "kernelspec": {
   "display_name": "Python 3 (ipykernel)",
   "language": "python",
   "name": "python3"
  },
  "language_info": {
   "codemirror_mode": {
    "name": "ipython",
    "version": 3
   },
   "file_extension": ".py",
   "mimetype": "text/x-python",
   "name": "python",
   "nbconvert_exporter": "python",
   "pygments_lexer": "ipython3",
   "version": "3.11.3"
  },
  "vscode": {
   "interpreter": {
    "hash": "df657c42ffabd81f9be5aedeaf438ee88f88a1b63551a526ed49ba8a75d7a743"
   }
  }
 },
 "nbformat": 4,
 "nbformat_minor": 4
}
