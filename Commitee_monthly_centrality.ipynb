{
 "cells": [
  {
   "cell_type": "code",
   "execution_count": 155,
   "id": "2b8a9574",
   "metadata": {},
   "outputs": [
    {
     "data": {
      "text/html": [
       "<style>.container { width:100% !important; }</style>"
      ],
      "text/plain": [
       "<IPython.core.display.HTML object>"
      ]
     },
     "metadata": {},
     "output_type": "display_data"
    }
   ],
   "source": [
    "import pandas as pd\n",
    "import networkx as nx\n",
    "import numpy as np\n",
    "import matplotlib.pyplot as plt\n",
    "import csv\n",
    "import datetime\n",
    "\n",
    "from networkx import group_closeness_centrality\n",
    "from networkx import group_betweenness_centrality\n",
    "\n",
    "from IPython.display import display, HTML\n",
    "display(HTML(\"<style>.container { width:100% !important; }</style>\")) #ez hogy a rákban nem a defaultja a jupyternek?\n",
    "\n",
    "# saját függvényeink\n",
    "from functions import *\n",
    "from getdata import *\n",
    "\n",
    "monthly_bipartite = acquireSplitData()\n",
    "time_for_split_data =[  datetime.datetime(2019,9,15), datetime.datetime(2019,10,15), datetime.datetime(2019,11,15), datetime.datetime(2019,12,15),\n",
    "                        datetime.datetime(2020,1,15), datetime.datetime(2020,2,15), datetime.datetime(2020,3,15), datetime.datetime(2020,4,15), datetime.datetime(2020,5,15), datetime.datetime(2020,6,15), datetime.datetime(2020,7,15), datetime.datetime(2020,8,15), datetime.datetime(2020,9,15), datetime.datetime(2020,10,15), datetime.datetime(2020,11,15), datetime.datetime(2020,12,15),\n",
    "                        datetime.datetime(2021,1,15), datetime.datetime(2021,2,15), datetime.datetime(2021,3,15), datetime.datetime(2021,4,15), datetime.datetime(2021,5,15), datetime.datetime(2021,6,15), datetime.datetime(2021,7,15), datetime.datetime(2021,8,15), datetime.datetime(2021,9,15), datetime.datetime(2021,10,15), datetime.datetime(2021,11,15), datetime.datetime(2021,12,15),\n",
    "                        datetime.datetime(2022,1,15), datetime.datetime(2022,2,15), datetime.datetime(2022,3,15), datetime.datetime(2022,4,15), datetime.datetime(2022,5,15), datetime.datetime(2022,6,15), datetime.datetime(2022,7,15)]"
   ]
  },
  {
   "cell_type": "code",
   "execution_count": 5,
   "id": "8df6898d",
   "metadata": {
    "scrolled": true
   },
   "outputs": [
    {
     "name": "stdout",
     "output_type": "stream",
     "text": [
      "      Unnamed: 0  AmendmentID        Date  OfficialMEPID  \\\n",
      "0            626       882780  2019-09-06         125128   \n",
      "1            627       887244  2019-09-06          96833   \n",
      "2            628       895983  2019-09-06         197399   \n",
      "3            629       880985  2019-09-06          96833   \n",
      "4            630       888430  2019-09-06          28340   \n",
      "...          ...          ...         ...            ...   \n",
      "1930        2556       891291  2019-09-26         197455   \n",
      "1931        2557       891291  2019-09-26          96681   \n",
      "1932        2558       891291  2019-09-26         197716   \n",
      "1933        2559       891291  2019-09-26         197710   \n",
      "1934        2560       891291  2019-09-26          88715   \n",
      "\n",
      "                                   MEPName     MemberState     EPGroup  \\\n",
      "0                          Iskra MIHAYLOVA        Bulgaria          RE   \n",
      "1                               Jens GEIER         Germany         S&D   \n",
      "2                          Jessica STEGRUD          Sweden         ECR   \n",
      "3                               Jens GEIER         Germany         S&D   \n",
      "4                            Patrizia TOIA           Italy         S&D   \n",
      "...                                    ...             ...         ...   \n",
      "1930                        Cindy FRANSSEN         Belgium         EPP   \n",
      "1931                  Vilija BLINKEVIČIŪTĖ       Lithuania         S&D   \n",
      "1932                           Jane BROPHY  United Kingdom          RE   \n",
      "1933  Alexandra Louise Rosenfield PHILLIPS  United Kingdom  Greens/EFA   \n",
      "1934                           José GUSMÃO        Portugal     GUE/NGL   \n",
      "\n",
      "                             NationalParty  \n",
      "0         Movement for Rights and Freedoms  \n",
      "1       Social Democratic Party of Germany  \n",
      "2                         Sweden Democrats  \n",
      "3       Social Democratic Party of Germany  \n",
      "4                         Democratic Party  \n",
      "...                                    ...  \n",
      "1930      Christian Democratic and Flemish  \n",
      "1931  Social Democratic Party of Lithuania  \n",
      "1932                     Liberal Democrats  \n",
      "1933      Green Party of England and Wales  \n",
      "1934                             Left Bloc  \n",
      "\n",
      "[1935 rows x 8 columns]\n",
      "2019-09-15 00:00:00\n"
     ]
    }
   ],
   "source": [
    "print(monthly_bipartite[2])\n",
    "print(time_for_split_data[2]) "
   ]
  },
  {
   "cell_type": "code",
   "execution_count": 126,
   "id": "2fbc41de",
   "metadata": {
    "scrolled": true
   },
   "outputs": [
    {
     "name": "stdout",
     "output_type": "stream",
     "text": [
      "        AmendmentID Committee          Dossier       Date         PENumber  \\\n",
      "2435         887717      AFET  2019/2028 (BUD) 2019-09-19  PE641.095v02-00   \n",
      "2436         887717      AFET  2019/2028 (BUD) 2019-09-19  PE641.095v02-00   \n",
      "2437         881081      AFET  2019/2028 (BUD) 2019-09-19  PE641.095v02-00   \n",
      "2438         892914      AFET  2019/2028 (BUD) 2019-09-19  PE641.095v02-00   \n",
      "2439         892914      AFET  2019/2028 (BUD) 2019-09-19  PE641.095v02-00   \n",
      "...             ...       ...              ...        ...              ...   \n",
      "747139      1159109      AFET  2021/2236 (INI) 2022-08-01  PE735.619v02-00   \n",
      "747140      1160452      AFET  2021/2236 (INI) 2022-08-01  PE735.619v02-00   \n",
      "747141      1157041      AFET  2021/2236 (INI) 2022-08-01  PE735.619v02-00   \n",
      "747142      1158473      AFET  2021/2236 (INI) 2022-08-01  PE735.619v02-00   \n",
      "747143      1160422      AFET  2021/2236 (INI) 2022-08-01  PE735.619v02-00   \n",
      "\n",
      "        DocumentType OfficialMEPID            MEPName MemberState     EPGroup  \\\n",
      "2435    DraftOpinion        197623    Thierry MARIANI      France          ID   \n",
      "2436    DraftOpinion        197615     Jérôme RIVIÈRE      France          ID   \n",
      "2437    DraftOpinion        197650      Isabel SANTOS    Portugal         S&D   \n",
      "2438    DraftOpinion        197623    Thierry MARIANI      France          ID   \n",
      "2439    DraftOpinion        197615     Jérôme RIVIÈRE      France          ID   \n",
      "...              ...           ...                ...         ...         ...   \n",
      "747139  DraftOpinion        129073         Urmas PAET     Estonia          RE   \n",
      "747140  DraftOpinion        129073         Urmas PAET     Estonia          RE   \n",
      "747141  DraftOpinion        129073         Urmas PAET     Estonia          RE   \n",
      "747142  DraftOpinion        197549  Markéta GREGOROVÁ     Czechia  Greens/EFA   \n",
      "747143  DraftOpinion        129073         Urmas PAET     Estonia          RE   \n",
      "\n",
      "                NationalParty  \n",
      "2435           National Rally  \n",
      "2436           National Rally  \n",
      "2437          Socialist Party  \n",
      "2438           National Rally  \n",
      "2439           National Rally  \n",
      "...                       ...  \n",
      "747139  Estonian Reform Party  \n",
      "747140  Estonian Reform Party  \n",
      "747141  Estonian Reform Party  \n",
      "747142     Czech Pirate Party  \n",
      "747143  Estonian Reform Party  \n",
      "\n",
      "[66546 rows x 11 columns]\n"
     ]
    }
   ],
   "source": [
    "# works with the three committees we care about: \"ENVI\", \"ITRE\" and \"AFET\"\n",
    "ENTIRE_ITRE_DATASET = getCommitteeData(\"ITRE\")\n",
    "ENTIRE_ENVI_DATASET = getCommitteeData(\"ENVI\")\n",
    "ENTIRE_AFET_DATASET = getCommitteeData(\"AFET\")"
   ]
  },
  {
   "cell_type": "code",
   "execution_count": 17,
   "id": "b7ac5b14",
   "metadata": {},
   "outputs": [
    {
     "name": "stdout",
     "output_type": "stream",
     "text": [
      "Friday/June\n"
     ]
    }
   ],
   "source": []
  },
  {
   "cell_type": "code",
   "execution_count": 18,
   "id": "81e17c37",
   "metadata": {},
   "outputs": [
    {
     "name": "stderr",
     "output_type": "stream",
     "text": [
      "C:\\Users\\berna\\AppData\\Local\\Temp\\ipykernel_19252\\1146622630.py:1: SettingWithCopyWarning: \n",
      "A value is trying to be set on a copy of a slice from a DataFrame.\n",
      "Try using .loc[row_indexer,col_indexer] = value instead\n",
      "\n",
      "See the caveats in the documentation: https://pandas.pydata.org/pandas-docs/stable/user_guide/indexing.html#returning-a-view-versus-a-copy\n",
      "  ENTIRE_ITRE_DATASET[\"Date\"] = pd.to_datetime(ENTIRE_ITRE_DATASET[\"Date\"], format = \"%d/%m/%Y\")\n",
      "C:\\Users\\berna\\AppData\\Local\\Temp\\ipykernel_19252\\1146622630.py:2: SettingWithCopyWarning: \n",
      "A value is trying to be set on a copy of a slice from a DataFrame.\n",
      "Try using .loc[row_indexer,col_indexer] = value instead\n",
      "\n",
      "See the caveats in the documentation: https://pandas.pydata.org/pandas-docs/stable/user_guide/indexing.html#returning-a-view-versus-a-copy\n",
      "  ENTIRE_ENVI_DATASET[\"Date\"] = pd.to_datetime(ENTIRE_ENVI_DATASET[\"Date\"], format = \"%d/%m/%Y\")\n",
      "C:\\Users\\berna\\AppData\\Local\\Temp\\ipykernel_19252\\1146622630.py:3: SettingWithCopyWarning: \n",
      "A value is trying to be set on a copy of a slice from a DataFrame.\n",
      "Try using .loc[row_indexer,col_indexer] = value instead\n",
      "\n",
      "See the caveats in the documentation: https://pandas.pydata.org/pandas-docs/stable/user_guide/indexing.html#returning-a-view-versus-a-copy\n",
      "  ENTIRE_AFET_DATASET[\"Date\"] = pd.to_datetime(ENTIRE_AFET_DATASET[\"Date\"], format = \"%d/%m/%Y\")\n"
     ]
    }
   ],
   "source": [
    "ENTIRE_ITRE_DATASET[\"Date\"] = pd.to_datetime(ENTIRE_ITRE_DATASET[\"Date\"], format = \"%d/%m/%Y\")\n",
    "ENTIRE_ENVI_DATASET[\"Date\"] = pd.to_datetime(ENTIRE_ENVI_DATASET[\"Date\"], format = \"%d/%m/%Y\")\n",
    "ENTIRE_AFET_DATASET[\"Date\"] = pd.to_datetime(ENTIRE_AFET_DATASET[\"Date\"], format = \"%d/%m/%Y\")"
   ]
  },
  {
   "cell_type": "code",
   "execution_count": 123,
   "id": "c2d7ec96",
   "metadata": {},
   "outputs": [
    {
     "name": "stdout",
     "output_type": "stream",
     "text": [
      "<pandas.core.groupby.generic.DataFrameGroupBy object at 0x00000207871BB610>\n"
     ]
    }
   ],
   "source": [
    "# https://stackoverflow.com/questions/55268578/split-dataframe-by-month\n",
    "\n",
    "# for each commitee create a division\n",
    "g = ENTIRE_ITRE_DATASET.groupby(pd.Grouper(key='Date', freq='M'))\n",
    "# groups to a list of dataframes with list comprehension\n",
    "ITRE_split_data = [group for _,group in g]\n",
    "\n",
    "g = ENTIRE_ENVI_DATASET.groupby(pd.Grouper(key='Date', freq='M'))\n",
    "# groups to a list of dataframes with list comprehension\n",
    "ENVI_split_data = [group for _,group in g]\n",
    "\n",
    "g = ENTIRE_AFET_DATASET.groupby(pd.Grouper(key='Date', freq='M'))\n",
    "# groups to a list of dataframes with list comprehension\n",
    "AFET_split_data = [group for _,group in g]"
   ]
  },
  {
   "cell_type": "code",
   "execution_count": 158,
   "id": "49844510",
   "metadata": {},
   "outputs": [
    {
     "name": "stdout",
     "output_type": "stream",
     "text": [
      "2020-02-15 00:00:00\n"
     ]
    }
   ],
   "source": [
    "#looking at dates\n",
    "ITRE_split_data[0]"
   ]
  },
  {
   "cell_type": "markdown",
   "id": "99ad715c",
   "metadata": {},
   "source": [
    "Doing the same analysis as for the standard division, but for each Commission\n"
   ]
  },
  {
   "cell_type": "code",
   "execution_count": 50,
   "id": "25229b51",
   "metadata": {},
   "outputs": [],
   "source": [
    "months_ITRE = []\n",
    "for month in ITRE_split_data:\n",
    "    if month.size != 0:\n",
    "        nxgraph = nx.from_pandas_edgelist(month, source='AmendmentID', target='MEPName')\n",
    "        meps = pd.unique(month['MEPName'])\n",
    "        #print(nx.algorithms.bipartite.projected_graph(nxgraph, meps).nodes)\n",
    "        months_ITRE.append(nx.algorithms.bipartite.weighted_projected_graph(nxgraph, meps))\n",
    "    else: months_ITRE.append(0)\n",
    "        \n",
    "        \n",
    "months_ENVI = []\n",
    "for month in ENVI_split_data:\n",
    "    if month.size != 0:\n",
    "        nxgraph = nx.from_pandas_edgelist(month, source='AmendmentID', target='MEPName')\n",
    "        meps = pd.unique(month['MEPName'])\n",
    "        #print(nx.algorithms.bipartite.projected_graph(nxgraph, meps).nodes)\n",
    "        months_ENVI.append(nx.algorithms.bipartite.weighted_projected_graph(nxgraph, meps))\n",
    "    else: months_ENVI.append(0)\n",
    "        \n",
    "        \n",
    "months_AFET = []\n",
    "for month in AFET_split_data:\n",
    "    if month.size != 0:\n",
    "        nxgraph = nx.from_pandas_edgelist(month, source='AmendmentID', target='MEPName')\n",
    "        meps = pd.unique(month['MEPName'])\n",
    "        #print(nx.algorithms.bipartite.projected_graph(nxgraph, meps).nodes)\n",
    "        months_AFET.append(nx.algorithms.bipartite.weighted_projected_graph(nxgraph, meps))\n",
    "    else: months_AFET.append(0)"
   ]
  },
  {
   "cell_type": "markdown",
   "id": "45752504",
   "metadata": {},
   "source": [
    "Centralities for ITRE by party"
   ]
  },
  {
   "cell_type": "code",
   "execution_count": 119,
   "id": "2eb713df",
   "metadata": {},
   "outputs": [],
   "source": [
    "monthly_closeness_centality_by_party_ITRE = []\n",
    "#monthly_weighted_closeness_centality_by_party = []\n",
    "monthly_betweenness_centality_by_party_ITRE = []\n",
    "#monthly_weighted_betweenness_centality_by_party = []\n",
    "for month in months_ITRE:\n",
    "    curr_cls = {}\n",
    "    #curr_w_cls = {}\n",
    "    curr_btw = {}\n",
    "    #curr_w_btw = {}\n",
    "    if month != 0:\n",
    "        monthly_meps = set(pd.unique(ENTIRE_DATASET[\"MEPName\"])) & set(pd.unique(month.nodes))\n",
    "        for party in listPoliticalGroups():\n",
    "            partymeps = set(listMEPs_by_polgroup(party)) & monthly_meps\n",
    "            if partymeps == set():\n",
    "                curr_cls[party] = 0\n",
    "                curr_btw[party] = 0\n",
    "            else:\n",
    "                curr_cls[party] = group_closeness_centrality(month, partymeps, weight=None)\n",
    "                #curr_w_cls[party] = group_closeness_centrality(month, partymeps, weight=month.edges.data(\"weight\", default=0) )\n",
    "                try: \n",
    "                    curr_btw[party] = group_betweenness_centrality(month, partymeps, weight=None)\n",
    "                except ZeroDivisionError: \n",
    "                    curr_btw[party] = 0\n",
    "                #curr_w_btw[party] = group_betweenness_centrality(month, partymeps, weight=month.edges.data(\"weight\", default=0))\n",
    "    else:\n",
    "        for party in listPoliticalGroups():\n",
    "                curr_cls[party] = 0\n",
    "                curr_btw[party] = 0\n",
    "    monthly_closeness_centality_by_party_ITRE.append(curr_cls)\n",
    "    #monthly_weighted_closeness_centality_by_party.append(curr_w_cls)\n",
    "    monthly_betweenness_centality_by_party_ITRE.append(curr_btw)\n",
    "    #monthly_weighted_betweenness_centality_by_party.append(curr_w_btw)\n",
    "\n",
    "monthly_closeness_centality_by_party_ITRE = pd.DataFrame(monthly_closeness_centality_by_party_ITRE)\n",
    "#monthly_weighted_closeness_centality_by_party = pd.DataFrame(monthly_weighted_closeness_centality_by_party)\n",
    "monthly_betweenness_centality_by_party_ITRE = pd.DataFrame(monthly_betweenness_centality_by_party_ITRE)\n",
    "#monthly_weighted_betweenness_centality_by_party = pd.DataFrame(monthly_weighted_betweenness_centality_by_party)\n",
    "#print(monthly_closeness_centality_by_party)"
   ]
  },
  {
   "cell_type": "code",
   "execution_count": null,
   "id": "0b884054",
   "metadata": {},
   "outputs": [],
   "source": []
  },
  {
   "cell_type": "code",
   "execution_count": null,
   "id": "50f81553",
   "metadata": {
    "scrolled": true
   },
   "outputs": [],
   "source": []
  },
  {
   "cell_type": "code",
   "execution_count": 137,
   "id": "5dcd88e1",
   "metadata": {},
   "outputs": [
    {
     "data": {
      "image/png": "[encoded data removed]",
      "text/plain": [
       "<Figure size 640x480 with 1 Axes>"
      ]
     },
     "metadata": {},
     "output_type": "display_data"
    }
   ],
   "source": [
    "monthly_closeness_centality_by_party_ITRE[[\"EPP\", \"RE\", \"NI\"]].plot()\n",
    "plt.xlabel(\"Months (0=2019_07)\")\n",
    "plt.ylabel(\"betweenness centrality\")\n",
    "plt.show()\n",
    "# all [[\"EPP\", \"ECR\", \"ID\", \"Greens/EFA\", \"RE\", \"S&D\", \"NI\", \"GUE/NGL\"]]\n",
    "#[[\"EPP\", \"RE\", \"NI\"]]"
   ]
  },
  {
   "cell_type": "markdown",
   "id": "8bf36319",
   "metadata": {},
   "source": [
    "Centralities for ITRE by country"
   ]
  },
  {
   "cell_type": "code",
   "execution_count": 139,
   "id": "f38f3269",
   "metadata": {},
   "outputs": [],
   "source": [
    "monthly_closeness_centality_by_country_ITRE = []\n",
    "monthly_betweenness_centality_by_country_ITRE = []\n",
    "for month in months_ITRE:\n",
    "    curr_cls = {}\n",
    "    curr_btw = {}\n",
    "    if month != 0:\n",
    "        monthly_meps = set(pd.unique(ENTIRE_DATASET[\"MEPName\"])) & set(pd.unique(month.nodes))\n",
    "        for country in listCountries():\n",
    "            countrymeps = set(listMEPs_by_country(country)) & monthly_meps\n",
    "            if countrymeps == set():\n",
    "                curr_cls[country] = 0\n",
    "                curr_btw[country] = 0\n",
    "            else:\n",
    "                curr_cls[country] = group_closeness_centrality(month, countrymeps, weight=None)\n",
    "                curr_btw[country] = group_betweenness_centrality(month, countrymeps, weight=None)\n",
    "    else:\n",
    "        for country in listCountries():\n",
    "                curr_cls[country] = 0\n",
    "                curr_btw[country] = 0\n",
    "    monthly_closeness_centality_by_country_ITRE.append(curr_cls)\n",
    "    monthly_betweenness_centality_by_country_ITRE.append(curr_btw)\n",
    "\n",
    "monthly_closeness_centality_by_country_ITRE = pd.DataFrame(monthly_closeness_centality_by_country_ITRE)\n",
    "monthly_betweenness_centality_by_country_ITRE = pd.DataFrame(monthly_betweenness_centality_by_country_ITRE)"
   ]
  },
  {
   "cell_type": "code",
   "execution_count": 141,
   "id": "a06337f3",
   "metadata": {},
   "outputs": [
    {
     "name": "stdout",
     "output_type": "stream",
     "text": [
      "    Czechia  Poland  France  Netherlands  Slovakia  Romania  Spain  Croatia  \\\n",
      "0         0       0       0            0         0        0      0        0   \n",
      "1         0       0       0            0         0        0      0        0   \n",
      "2         0       0       0            0         0        0      0        0   \n",
      "3         0       0       0            0         0        0      0        0   \n",
      "4         0       0       0            0         0        0      0        0   \n",
      "5         0       0       0            0         0        0      0        0   \n",
      "6         0       0       0            0         0        0      0        0   \n",
      "7         0       0       0            0         0        0      0        0   \n",
      "8         0       0       0            0         0        0      0        0   \n",
      "9         0       0       0            0         0        0      0        0   \n",
      "10        0       0       0            0         0        0      0        0   \n",
      "11        0       0       0            0         0        0      0        0   \n",
      "12        0       0       0            0         0        0      0        0   \n",
      "13        0       0       0            0         0        0      0        0   \n",
      "14        0       0       0            0         0        0      0        0   \n",
      "15        0       0       0            0         0        0      0        0   \n",
      "16        0       0       0            0         0        0      0        0   \n",
      "17        0       0       0            0         0        0      0        0   \n",
      "18        0       0       0            0         0        0      0        0   \n",
      "19        0       0       0            0         0        0      0        0   \n",
      "20        0       0       0            0         0        0      0        0   \n",
      "21        0       0       0            0         0        0      0        0   \n",
      "22        0       0       0            0         0        0      0        0   \n",
      "23        0       0       0            0         0        0      0        0   \n",
      "24        0       0       0            0         0        0      0        0   \n",
      "25        0       0       0            0         0        0      0        0   \n",
      "26        0       0       0            0         0        0      0        0   \n",
      "27        0       0       0            0         0        0      0        0   \n",
      "28        0       0       0            0         0        0      0        0   \n",
      "29        0       0       0            0         0        0      0        0   \n",
      "30        0       0       0            0         0        0      0        0   \n",
      "31        0       0       0            0         0        0      0        0   \n",
      "32        0       0       0            0         0        0      0        0   \n",
      "33        0       0       0            0         0        0      0        0   \n",
      "34        0       0       0            0         0        0      0        0   \n",
      "\n",
      "    Greece  Portugal  ...  Malta  Austria  Slovenia  Latvia  Cyprus  \\\n",
      "0        0         0  ...      0        0         0       0       0   \n",
      "1        0         0  ...      0        0         0       0       0   \n",
      "2        0         0  ...      0        0         0       0       0   \n",
      "3        0         0  ...      0        0         0       0       0   \n",
      "4        0         0  ...      0        0         0       0       0   \n",
      "5        0         0  ...      0        0         0       0       0   \n",
      "6        0         0  ...      0        0         0       0       0   \n",
      "7        0         0  ...      0        0         0       0       0   \n",
      "8        0         0  ...      0        0         0       0       0   \n",
      "9        0         0  ...      0        0         0       0       0   \n",
      "10       0         0  ...      0        0         0       0       0   \n",
      "11       0         0  ...      0        0         0       0       0   \n",
      "12       0         0  ...      0        0         0       0       0   \n",
      "13       0         0  ...      0        0         0       0       0   \n",
      "14       0         0  ...      0        0         0       0       0   \n",
      "15       0         0  ...      0        0         0       0       0   \n",
      "16       0         0  ...      0        0         0       0       0   \n",
      "17       0         0  ...      0        0         0       0       0   \n",
      "18       0         0  ...      0        0         0       0       0   \n",
      "19       0         0  ...      0        0         0       0       0   \n",
      "20       0         0  ...      0        0         0       0       0   \n",
      "21       0         0  ...      0        0         0       0       0   \n",
      "22       0         0  ...      0        0         0       0       0   \n",
      "23       0         0  ...      0        0         0       0       0   \n",
      "24       0         0  ...      0        0         0       0       0   \n",
      "25       0         0  ...      0        0         0       0       0   \n",
      "26       0         0  ...      0        0         0       0       0   \n",
      "27       0         0  ...      0        0         0       0       0   \n",
      "28       0         0  ...      0        0         0       0       0   \n",
      "29       0         0  ...      0        0         0       0       0   \n",
      "30       0         0  ...      0        0         0       0       0   \n",
      "31       0         0  ...      0        0         0       0       0   \n",
      "32       0         0  ...      0        0         0       0       0   \n",
      "33       0         0  ...      0        0         0       0       0   \n",
      "34       0         0  ...      0        0         0       0       0   \n",
      "\n",
      "    Luxembourg  Lithuania  Estonia  Denmark     \n",
      "0            0          0        0        0  0  \n",
      "1            0          0        0        0  0  \n",
      "2            0          0        0        0  0  \n",
      "3            0          0        0        0  0  \n",
      "4            0          0        0        0  0  \n",
      "5            0          0        0        0  0  \n",
      "6            0          0        0        0  0  \n",
      "7            0          0        0        0  0  \n",
      "8            0          0        0        0  0  \n",
      "9            0          0        0        0  0  \n",
      "10           0          0        0        0  0  \n",
      "11           0          0        0        0  0  \n",
      "12           0          0        0        0  0  \n",
      "13           0          0        0        0  0  \n",
      "14           0          0        0        0  0  \n",
      "15           0          0        0        0  0  \n",
      "16           0          0        0        0  0  \n",
      "17           0          0        0        0  0  \n",
      "18           0          0        0        0  0  \n",
      "19           0          0        0        0  0  \n",
      "20           0          0        0        0  0  \n",
      "21           0          0        0        0  0  \n",
      "22           0          0        0        0  0  \n",
      "23           0          0        0        0  0  \n",
      "24           0          0        0        0  0  \n",
      "25           0          0        0        0  0  \n",
      "26           0          0        0        0  0  \n",
      "27           0          0        0        0  0  \n",
      "28           0          0        0        0  0  \n",
      "29           0          0        0        0  0  \n",
      "30           0          0        0        0  0  \n",
      "31           0          0        0        0  0  \n",
      "32           0          0        0        0  0  \n",
      "33           0          0        0        0  0  \n",
      "34           0          0        0        0  0  \n",
      "\n",
      "[35 rows x 29 columns]\n"
     ]
    }
   ],
   "source": [
    "print(monthly_betweenness_centality_by_country_ITRE)"
   ]
  },
  {
   "cell_type": "markdown",
   "id": "ad7f45a1",
   "metadata": {},
   "source": [
    "Centralities for ENVI by party"
   ]
  },
  {
   "cell_type": "code",
   "execution_count": 142,
   "id": "0910abd3",
   "metadata": {},
   "outputs": [],
   "source": [
    "monthly_closeness_centality_by_party_ENVI = []\n",
    "#monthly_weighted_closeness_centality_by_party = []\n",
    "monthly_betweenness_centality_by_party_ENVI = []\n",
    "#monthly_weighted_betweenness_centality_by_party = []\n",
    "for month in months_ENVI:\n",
    "    curr_cls = {}\n",
    "    #curr_w_cls = {}\n",
    "    curr_btw = {}\n",
    "    #curr_w_btw = {}\n",
    "    if month != 0:\n",
    "        monthly_meps = set(pd.unique(ENTIRE_DATASET[\"MEPName\"])) & set(pd.unique(month.nodes))\n",
    "        for party in listPoliticalGroups():\n",
    "            partymeps = set(listMEPs_by_polgroup(party)) & monthly_meps\n",
    "            if partymeps == set():\n",
    "                curr_cls[party] = 0\n",
    "                curr_btw[party] = 0\n",
    "            else:\n",
    "                curr_cls[party] = group_closeness_centrality(month, partymeps, weight=None)\n",
    "                #curr_w_cls[party] = group_closeness_centrality(month, partymeps, weight=month.edges.data(\"weight\", default=0) )\n",
    "                try: \n",
    "                    curr_btw[party] = group_betweenness_centrality(month, partymeps, weight=None)\n",
    "                except ZeroDivisionError: \n",
    "                    curr_btw[party] = 0\n",
    "                #curr_w_btw[party] = group_betweenness_centrality(month, partymeps, weight=month.edges.data(\"weight\", default=0))\n",
    "    else:\n",
    "        for party in listPoliticalGroups():\n",
    "                curr_cls[party] = 0\n",
    "                curr_btw[party] = 0\n",
    "    monthly_closeness_centality_by_party_ENVI.append(curr_cls)\n",
    "    #monthly_weighted_closeness_centality_by_party.append(curr_w_cls)\n",
    "    monthly_betweenness_centality_by_party_ENVI.append(curr_btw)\n",
    "    #monthly_weighted_betweenness_centality_by_party.append(curr_w_btw)\n",
    "\n",
    "monthly_closeness_centality_by_party_ENVI = pd.DataFrame(monthly_closeness_centality_by_party_ENVI)\n",
    "#monthly_weighted_closeness_centality_by_party = pd.DataFrame(monthly_weighted_closeness_centality_by_party)\n",
    "monthly_betweenness_centality_by_party_ENVI = pd.DataFrame(monthly_betweenness_centality_by_party_ENVI)\n",
    "#monthly_weighted_betweenness_centality_by_party = pd.DataFrame(monthly_weighted_betweenness_centality_by_party)\n",
    "#print(monthly_closeness_centality_by_party)"
   ]
  },
  {
   "cell_type": "code",
   "execution_count": 194,
   "id": "c3596f75",
   "metadata": {},
   "outputs": [
    {
     "data": {
      "image/png": "[encoded data removed]",
      "text/plain": [
       "<Figure size 640x480 with 1 Axes>"
      ]
     },
     "metadata": {},
     "output_type": "display_data"
    }
   ],
   "source": [
    "plt.plot(monthly_closeness_centality_by_party_ENVI[[\"EPP\", \"RE\"]])\n",
    "plt.xlabel(\"Months (0=2019_07)\")\n",
    "plt.ylabel(\"closeness centrality\")\n",
    "plt.xticks([i for i in range(len(TIMES))], labels = TIMES, rotation ='vertical') \n",
    "plt.show()\n",
    "# all [[\"EPP\", \"ECR\", \"ID\", \"Greens/EFA\", \"RE\", \"S&D\", \"NI\", \"GUE/NGL\"]]\n",
    "#[[\"EPP\", \"RE\", \"NI\"]]\n"
   ]
  },
  {
   "cell_type": "code",
   "execution_count": 185,
   "id": "2e96587a",
   "metadata": {},
   "outputs": [],
   "source": [
    "TIMES = []\n",
    "for elem in time_for_split_data:\n",
    "    TIMES.append(str(elem.strftime(\"%Y.%m\")))"
   ]
  },
  {
   "cell_type": "code",
   "execution_count": 186,
   "id": "458c630c",
   "metadata": {},
   "outputs": [
    {
     "name": "stdout",
     "output_type": "stream",
     "text": [
      "['2019.09', '2019.10', '2019.11', '2019.12', '2020.01', '2020.02', '2020.03', '2020.04', '2020.05', '2020.06', '2020.07', '2020.08', '2020.09', '2020.10', '2020.11', '2020.12', '2021.01', '2021.02', '2021.03', '2021.04', '2021.05', '2021.06', '2021.07', '2021.08', '2021.09', '2021.10', '2021.11', '2021.12', '2022.01', '2022.02', '2022.03', '2022.04', '2022.05', '2022.06', '2022.07']\n"
     ]
    }
   ],
   "source": [
    "print(TIMES)"
   ]
  },
  {
   "cell_type": "code",
   "execution_count": null,
   "id": "35c63fea",
   "metadata": {},
   "outputs": [],
   "source": []
  }
 ],
 "metadata": {
  "kernelspec": {
   "display_name": "Python 3 (ipykernel)",
   "language": "python",
   "name": "python3"
  },
  "language_info": {
   "codemirror_mode": {
    "name": "ipython",
    "version": 3
   },
   "file_extension": ".py",
   "mimetype": "text/x-python",
   "name": "python",
   "nbconvert_exporter": "python",
   "pygments_lexer": "ipython3",
   "version": "3.11.3"
  }
 },
 "nbformat": 4,
 "nbformat_minor": 5
}
