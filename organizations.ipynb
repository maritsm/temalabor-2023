{
 "cells": [
  {
   "cell_type": "code",
   "execution_count": 1,
   "metadata": {},
   "outputs": [
    {
     "data": {
      "text/html": [
       "<style>.container { width:100% !important; }</style>"
      ],
      "text/plain": [
       "<IPython.core.display.HTML object>"
      ]
     },
     "metadata": {},
     "output_type": "display_data"
    }
   ],
   "source": [
    "import pandas as pd\n",
    "import networkx as nx\n",
    "import numpy as np\n",
    "import matplotlib.pyplot as plt\n",
    "import csv\n",
    "import datetime\n",
    "\n",
    "from IPython.display import display, HTML\n",
    "display(HTML(\"<style>.container { width:100% !important; }</style>\")) #ez hogy a rákban nem a defaultja a jupyternek?\n",
    "\n",
    "# saját függvényeink\n",
    "from functions import *"
   ]
  },
  {
   "cell_type": "code",
   "execution_count": 2,
   "metadata": {},
   "outputs": [
    {
     "data": {
      "text/plain": [
       "array(['Delegation for Relations with South Africa',\n",
       "       'Committee on Transport and Tourism',\n",
       "       'Conference of Delegation Chairs',\n",
       "       'Committee on Civil Liberties, Justice and Home Affairs',\n",
       "       'Committee on Legal Affairs',\n",
       "       'Delegation to the ACP-EU Joint Parliamentary Assembly',\n",
       "       'Special Committee on Foreign Interference in all Democratic Processes in the European Union, including Disinformation',\n",
       "       'Committee on Culture and Education',\n",
       "       'Delegation for Relations with the Maghreb countries and the Arab Maghreb Union, including the EU-Morocco, EU-Tunisia and EU-Algeria Joint Parliamentary Committees',\n",
       "       'Delegation to the Parliamentary Assembly of the Union for the Mediterranean',\n",
       "       'Committee of Inquiry on the Protection of Animals During Transport',\n",
       "       'Committee on Agriculture and Rural Development',\n",
       "       'Delegation to the EU-Serbia Stabilisation and Association Parliamentary Committee',\n",
       "       'Committee on Petitions', 'Delegation for Relations with Japan',\n",
       "       'Committee on Women’s Rights and Gender Equality',\n",
       "       'Delegation for Relations with the United States',\n",
       "       'Delegation for Relations with Australia and New Zealand',\n",
       "       'Committee on Budgetary Control',\n",
       "       'Delegation for Relations with the Arab Peninsula',\n",
       "       'Committee on Regional Development',\n",
       "       'Committee on Industry, Research and Energy',\n",
       "       'Delegation to the Euro-Latin American Parliamentary Assembly',\n",
       "       'Committee on Budgets',\n",
       "       'Committee on the Environment, Public Health and Food Safety',\n",
       "       'Committee on the Internal Market and Consumer Protection',\n",
       "       'Committee on Employment and Social Affairs',\n",
       "       'Delegation for Relations with Palestine',\n",
       "       'Special Committee on Artificial Intelligence in a Digital Age',\n",
       "       'Committee on International Trade',\n",
       "       'Subcommittee on Security and Defence',\n",
       "       'Delegation for Relations with the NATO Parliamentary Assembly',\n",
       "       'Delegation to the EU-Mexico Joint Parliamentary Committee',\n",
       "       'Committee on Fisheries',\n",
       "       'Delegation for Relations with the Federative Republic of Brazil',\n",
       "       'Committee on Constitutional Affairs',\n",
       "       'Delegation for Relations with Mercosur',\n",
       "       'Delegation for Relations with the Countries of South Asia',\n",
       "       'Committee on Foreign Affairs', 'Committee on Development',\n",
       "       'Delegation for Relations with the Pan-African Parliament',\n",
       "       'Delegation for Relations with India',\n",
       "       'Delegation to the EU-Russia Parliamentary Cooperation Committee',\n",
       "       'Delegation to the EU-North Macedonia Joint Parliamentary Committee',\n",
       "       'Delegation to the EU-Moldova Parliamentary Association Committee',\n",
       "       'Delegation to the Euronest Parliamentary Assembly',\n",
       "       'Delegation to the EU-UK Parliamentary Partnership Assembly',\n",
       "       'Delegation for Relations with the Mashreq countries',\n",
       "       'Delegation to the EU-Kazakhstan, EU-Kyrgyzstan, EU-Uzbekistan and EU-Tajikistan Parliamentary Cooperation Committees and for Relations with Turkmenistan and Mongolia',\n",
       "       'Delegation for Relations with Iraq',\n",
       "       'Delegation for Relations with Bosnia and Herzegovina, and Kosovo',\n",
       "       'Special Committee on Foreign Interference in All Democratic Processes in the European Union, Including Disinformation, and the Strengthening of Integrity, Transparency and Accountability in the European Parliament',\n",
       "       'Subcommittee on Public Health',\n",
       "       'Delegation for Relations With the Countries of Southeast Asia and the Association of Southeast Asian Nations',\n",
       "       'Committee of Inquiry to Investigate the Use of Pegasus and Equivalent Surveillance Spyware',\n",
       "       'Special Committee on the COVID-19 Pandemic Lessons Learned and Recommendations for the Future',\n",
       "       'Delegation for Relations with Canada',\n",
       "       'Committee on Economic and Monetary Affairs',\n",
       "       'Subcommittee on Tax Matters',\n",
       "       'Delegation to the EU-Türkiye Joint Parliamentary Committee',\n",
       "       'European Parliament',\n",
       "       'Delegation to the EU-Chile Joint Parliamentary Committee',\n",
       "       \"Parliament's Bureau\",\n",
       "       \"Delegation for Relations with the People's Republic of China\",\n",
       "       'Special Committee on Beating Cancer',\n",
       "       'Delegation for Relations with Israel',\n",
       "       'Delegation for Northern Cooperation and for Relations with Switzerland and Norway and to the EU-Iceland Joint Parliamentary Committee and the European Economic Area Joint Parliamentary Committee',\n",
       "       'Subcommittee on Human Rights', 'Conference of Committee Chairs',\n",
       "       'Delegation for Relations with the Countries of the Andean Community',\n",
       "       'Delegation for Relations with the Countries of Central America',\n",
       "       'Delegation to the EU-Albania Stabilisation and Association Parliamentary Committee',\n",
       "       'Conference of Presidents',\n",
       "       'Delegation to the Cariforum-EU Parliamentary Committee',\n",
       "       'Delegation for Relations with Afghanistan',\n",
       "       'Delegation to the EU-Ukraine Parliamentary Association Committee',\n",
       "       'Delegation for Relations with Belarus',\n",
       "       'Delegation to the EU-Armenia Parliamentary Partnership Committee, the EU-Azerbaijan Parliamentary Cooperation Committee and the EU-Georgia Parliamentary Association Committee',\n",
       "       'Quaestors',\n",
       "       'Delegation to the EU-Montenegro Stabilisation and Association Parliamentary Committee',\n",
       "       'Delegation for Relations With the Korean Peninsula',\n",
       "       'Delegation for Relations With Iran'], dtype=object)"
      ]
     },
     "execution_count": 2,
     "metadata": {},
     "output_type": "execute_result"
    }
   ],
   "source": [
    "listOrgs()"
   ]
  },
  {
   "cell_type": "code",
   "execution_count": 3,
   "metadata": {},
   "outputs": [
    {
     "data": {
      "text/plain": [
       "82"
      ]
     },
     "execution_count": 3,
     "metadata": {},
     "output_type": "execute_result"
    }
   ],
   "source": [
    "len(listOrgs())"
   ]
  },
  {
   "cell_type": "code",
   "execution_count": 9,
   "metadata": {},
   "outputs": [
    {
     "data": {
      "text/html": [
       "<div>\n",
       "<style scoped>\n",
       "    .dataframe tbody tr th:only-of-type {\n",
       "        vertical-align: middle;\n",
       "    }\n",
       "\n",
       "    .dataframe tbody tr th {\n",
       "        vertical-align: top;\n",
       "    }\n",
       "\n",
       "    .dataframe thead th {\n",
       "        text-align: right;\n",
       "    }\n",
       "</style>\n",
       "<table border=\"1\" class=\"dataframe\">\n",
       "  <thead>\n",
       "    <tr style=\"text-align: right;\">\n",
       "      <th></th>\n",
       "      <th>OrgName</th>\n",
       "      <th>MemberCount</th>\n",
       "    </tr>\n",
       "  </thead>\n",
       "  <tbody>\n",
       "    <tr>\n",
       "      <th>0</th>\n",
       "      <td>Delegation for Relations with South Africa</td>\n",
       "      <td>41</td>\n",
       "    </tr>\n",
       "    <tr>\n",
       "      <th>1</th>\n",
       "      <td>Committee on Transport and Tourism</td>\n",
       "      <td>134</td>\n",
       "    </tr>\n",
       "    <tr>\n",
       "      <th>2</th>\n",
       "      <td>Conference of Delegation Chairs</td>\n",
       "      <td>56</td>\n",
       "    </tr>\n",
       "    <tr>\n",
       "      <th>3</th>\n",
       "      <td>Committee on Civil Liberties, Justice and Home...</td>\n",
       "      <td>176</td>\n",
       "    </tr>\n",
       "    <tr>\n",
       "      <th>4</th>\n",
       "      <td>Committee on Legal Affairs</td>\n",
       "      <td>75</td>\n",
       "    </tr>\n",
       "    <tr>\n",
       "      <th>...</th>\n",
       "      <td>...</td>\n",
       "      <td>...</td>\n",
       "    </tr>\n",
       "    <tr>\n",
       "      <th>77</th>\n",
       "      <td>Delegation to the EU-Armenia Parliamentary Par...</td>\n",
       "      <td>39</td>\n",
       "    </tr>\n",
       "    <tr>\n",
       "      <th>78</th>\n",
       "      <td>Quaestors</td>\n",
       "      <td>8</td>\n",
       "    </tr>\n",
       "    <tr>\n",
       "      <th>79</th>\n",
       "      <td>Delegation to the EU-Montenegro Stabilisation ...</td>\n",
       "      <td>36</td>\n",
       "    </tr>\n",
       "    <tr>\n",
       "      <th>80</th>\n",
       "      <td>Delegation for Relations With the Korean Penin...</td>\n",
       "      <td>39</td>\n",
       "    </tr>\n",
       "    <tr>\n",
       "      <th>81</th>\n",
       "      <td>Delegation for Relations With Iran</td>\n",
       "      <td>33</td>\n",
       "    </tr>\n",
       "  </tbody>\n",
       "</table>\n",
       "<p>82 rows × 2 columns</p>\n",
       "</div>"
      ],
      "text/plain": [
       "                                              OrgName  MemberCount\n",
       "0          Delegation for Relations with South Africa           41\n",
       "1                  Committee on Transport and Tourism          134\n",
       "2                     Conference of Delegation Chairs           56\n",
       "3   Committee on Civil Liberties, Justice and Home...          176\n",
       "4                          Committee on Legal Affairs           75\n",
       "..                                                ...          ...\n",
       "77  Delegation to the EU-Armenia Parliamentary Par...           39\n",
       "78                                          Quaestors            8\n",
       "79  Delegation to the EU-Montenegro Stabilisation ...           36\n",
       "80  Delegation for Relations With the Korean Penin...           39\n",
       "81                 Delegation for Relations With Iran           33\n",
       "\n",
       "[82 rows x 2 columns]"
      ]
     },
     "execution_count": 9,
     "metadata": {},
     "output_type": "execute_result"
    }
   ],
   "source": [
    "x = []\n",
    "for i in listOrgs():\n",
    "    #print(i, orgMemberCount(i))\n",
    "    x.append([i, orgMemberCount(i)])\n",
    "df_orgmembercount = pd.DataFrame(x, columns=[\"OrgName\", \"MemberCount\"])\n",
    "df_orgmembercount.sort_values(by=\"MemberCount\", ascending=False)"
   ]
  },
  {
   "cell_type": "code",
   "execution_count": null,
   "metadata": {},
   "outputs": [],
   "source": []
  },
  {
   "cell_type": "code",
   "execution_count": null,
   "metadata": {},
   "outputs": [],
   "source": []
  }
 ],
 "metadata": {
  "kernelspec": {
   "display_name": "Python 3",
   "language": "python",
   "name": "python3"
  },
  "language_info": {
   "codemirror_mode": {
    "name": "ipython",
    "version": 3
   },
   "file_extension": ".py",
   "mimetype": "text/x-python",
   "name": "python",
   "nbconvert_exporter": "python",
   "pygments_lexer": "ipython3",
   "version": "3.10.12"
  }
 },
 "nbformat": 4,
 "nbformat_minor": 2
}
