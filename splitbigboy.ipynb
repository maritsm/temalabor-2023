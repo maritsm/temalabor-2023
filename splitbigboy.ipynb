{
 "cells": [
  {
   "cell_type": "code",
   "execution_count": 1,
   "metadata": {},
   "outputs": [],
   "source": [
    "from all import*\n",
    "bigboy = getBigBoyDataFrame()"
   ]
  },
  {
   "cell_type": "code",
   "execution_count": 11,
   "metadata": {},
   "outputs": [
    {
     "data": {
      "text/plain": [
       "Index(['amendment_id', 'person_id', 'person_full_name', 'document_eu_id',\n",
       "       'procedure_interinst_id', 'date', 'policy_area_name', 'policy_area_id',\n",
       "       'policy_area_level', 'organization_abbr'],\n",
       "      dtype='object')"
      ]
     },
     "execution_count": 11,
     "metadata": {},
     "output_type": "execute_result"
    }
   ],
   "source": [
    "bigboy.columns"
   ]
  },
  {
   "cell_type": "code",
   "execution_count": 14,
   "metadata": {},
   "outputs": [
    {
     "name": "stdout",
     "output_type": "stream",
     "text": [
      "         amendment_id  person_id       person_full_name document_eu_id  \\\n",
      "234                47       1369          Pascal Canfin      PE736.476   \n",
      "235                50       1369          Pascal Canfin      PE736.476   \n",
      "236                55       1369          Pascal Canfin      PE736.476   \n",
      "237                59       1369          Pascal Canfin      PE736.476   \n",
      "238                66       1369          Pascal Canfin      PE736.476   \n",
      "...               ...        ...                    ...            ...   \n",
      "2968638        391584       1452           Nicola Danti      PE754.723   \n",
      "2968639        391584       2210          Martin Hojsík      PE754.723   \n",
      "2968640        391584       2353         Andreas Glueck      PE754.723   \n",
      "2968641        391584       1977            Nicola Beer      PE754.723   \n",
      "2968642        391589       1838  Zdzisław Krasnodębski      PE754.723   \n",
      "\n",
      "        procedure_interinst_id        date  \\\n",
      "234             2021/0423(COD)  2022-09-15   \n",
      "235             2021/0423(COD)  2022-09-15   \n",
      "236             2021/0423(COD)  2022-09-15   \n",
      "237             2021/0423(COD)  2022-09-15   \n",
      "238             2021/0423(COD)  2022-09-15   \n",
      "...                        ...         ...   \n",
      "2968638         2023/2111(INI)  2023-10-18   \n",
      "2968639         2023/2111(INI)  2023-10-18   \n",
      "2968640         2023/2111(INI)  2023-10-18   \n",
      "2968641         2023/2111(INI)  2023-10-18   \n",
      "2968642         2023/2111(INI)  2023-10-18   \n",
      "\n",
      "                                       policy_area_name policy_area_id  \\\n",
      "234      Atmospheric pollution, motor vehicle pollution        3.70.02   \n",
      "235      Atmospheric pollution, motor vehicle pollution        3.70.02   \n",
      "236      Atmospheric pollution, motor vehicle pollution        3.70.02   \n",
      "237      Atmospheric pollution, motor vehicle pollution        3.70.02   \n",
      "238      Atmospheric pollution, motor vehicle pollution        3.70.02   \n",
      "...                                                 ...            ...   \n",
      "2968638              Alternative and renewable energies        3.60.05   \n",
      "2968639              Alternative and renewable energies        3.60.05   \n",
      "2968640              Alternative and renewable energies        3.60.05   \n",
      "2968641              Alternative and renewable energies        3.60.05   \n",
      "2968642              Alternative and renewable energies        3.60.05   \n",
      "\n",
      "         policy_area_level organization_abbr  \n",
      "234                      3              ITRE  \n",
      "235                      3              ITRE  \n",
      "236                      3              ITRE  \n",
      "237                      3              ITRE  \n",
      "238                      3              ITRE  \n",
      "...                    ...               ...  \n",
      "2968638                  3              ITRE  \n",
      "2968639                  3              ITRE  \n",
      "2968640                  3              ITRE  \n",
      "2968641                  3              ITRE  \n",
      "2968642                  3              ITRE  \n",
      "\n",
      "[361925 rows x 10 columns]\n"
     ]
    }
   ],
   "source": [
    "itreonly = bigboy.loc[bigboy[\"organization_abbr\"] == \"ITRE\"]\n",
    "print(itreonly)"
   ]
  },
  {
   "cell_type": "code",
   "execution_count": 15,
   "metadata": {},
   "outputs": [],
   "source": [
    "pedno = itreonly.groupby(itreonly.procedure_interinst_id)"
   ]
  },
  {
   "cell_type": "code",
   "execution_count": 16,
   "metadata": {},
   "outputs": [
    {
     "name": "stdout",
     "output_type": "stream",
     "text": [
      "2019/0151(COD)\n",
      "         amendment_id  person_id person_full_name document_eu_id  \\\n",
      "1567779         18183       1361    Marisa Matias      PE648.286   \n",
      "1567780         18183       1361    Marisa Matias      PE648.286   \n",
      "1567781         18183       1361    Marisa Matias      PE648.286   \n",
      "1567782         18198       1361    Marisa Matias      PE648.286   \n",
      "1567783         18198       1361    Marisa Matias      PE648.286   \n",
      "...               ...        ...              ...            ...   \n",
      "1570312         40996       1804    Klaus Buchner      PE650.626   \n",
      "1570313         40996       1804    Klaus Buchner      PE650.626   \n",
      "1570314         41004       1804    Klaus Buchner      PE650.626   \n",
      "1570315         41004       1804    Klaus Buchner      PE650.626   \n",
      "1570316         41004       1804    Klaus Buchner      PE650.626   \n",
      "\n",
      "        procedure_interinst_id        date  \\\n",
      "1567779         2019/0151(COD)  2020-03-12   \n",
      "1567780         2019/0151(COD)  2020-03-12   \n",
      "1567781         2019/0151(COD)  2020-03-12   \n",
      "1567782         2019/0151(COD)  2020-03-12   \n",
      "1567783         2019/0151(COD)  2020-03-12   \n",
      "...                        ...         ...   \n",
      "1570312         2019/0151(COD)  2020-05-04   \n",
      "1570313         2019/0151(COD)  2020-05-04   \n",
      "1570314         2019/0151(COD)  2020-05-04   \n",
      "1570315         2019/0151(COD)  2020-05-04   \n",
      "1570316         2019/0151(COD)  2020-05-04   \n",
      "\n",
      "                                 policy_area_name policy_area_id  \\\n",
      "1567779         European research area and policy        3.50.01   \n",
      "1567780                                Innovation        3.50.04   \n",
      "1567781  Education, vocational training and youth           4.40   \n",
      "1567782         European research area and policy        3.50.01   \n",
      "1567783                                Innovation        3.50.04   \n",
      "...                                           ...            ...   \n",
      "1570312                                Innovation        3.50.04   \n",
      "1570313  Education, vocational training and youth           4.40   \n",
      "1570314         European research area and policy        3.50.01   \n",
      "1570315                                Innovation        3.50.04   \n",
      "1570316  Education, vocational training and youth           4.40   \n",
      "\n",
      "         policy_area_level organization_abbr  \n",
      "1567779                  3              ITRE  \n",
      "1567780                  3              ITRE  \n",
      "1567781                  2              ITRE  \n",
      "1567782                  3              ITRE  \n",
      "1567783                  3              ITRE  \n",
      "...                    ...               ...  \n",
      "1570312                  3              ITRE  \n",
      "1570313                  2              ITRE  \n",
      "1570314                  3              ITRE  \n",
      "1570315                  3              ITRE  \n",
      "1570316                  2              ITRE  \n",
      "\n",
      "[2445 rows x 10 columns]\n"
     ]
    }
   ],
   "source": [
    "\"\"\"\n",
    "# This is how we can now iterate over procedures\n",
    "for i, x in pedno:\n",
    "    do_something(i,x)\n",
    "\"\"\""
   ]
  },
  {
   "cell_type": "code",
   "execution_count": 17,
   "metadata": {},
   "outputs": [],
   "source": [
    "itre_members = getImportantCommitteeMembers(comm=\"ITRE\")"
   ]
  },
  {
   "cell_type": "code",
   "execution_count": 24,
   "metadata": {},
   "outputs": [
    {
     "name": "stdout",
     "output_type": "stream",
     "text": [
      "[0.010213032581453634, 0.0058379578246392895, 0.029111338100102146, 0.02702702702702703, 0.018672930123311803, 0.028991596638655463, 0.009821428571428571, 0.021551724137931036, 0.011486421267196983, 0.0107810856541821, 0.02684326710816777, 0.019544159544159546, 0.017402597402597402, 0.01843942783540099, 0.029829712272460365, 0.014868527063649014, 0.012963941038075575, 0.00631398252184769, 0.009445216341768066, 0.011591626981443738, 0.003574509480021291, 0.008706518205461639, 0.031061929722384002, 0.003656045816511605, 0.06471631205673758, 0.024683544303797468, 0.03527336860670194, 0.011707624590514573, 0.020642861250071875, 0.008134733956047864, 0.025634920634920635, 0.020609929078014184, 0.04599686028257457, 0.021096238925600298, 0.024005654436805243, 0.017267460113594202, 0.038559754851889685, 0.01880990325694148, 0.004801762193173643, 0.024154589371980676, 0.005235904286020548, 0.007748114937843897, 0.009567492027089978, 0.011405849421859467, 0.04066985645933014, 0.004302772518411996, 0.019746063154423284, 0.015605403662163614, 0.014128922009055194, 0.08, 0.009518722924455521, 0.007483437806363447, 0.00462886813563934, 0.01136126151800133, 0.07787698412698413, 0.010198044905203256, 0.004464267524660766, 0.006011945096679641, 0.003657979731413633, 0.004030358160133782, 0.03574542284219703, 0.014771506980073977, 0.019388169733557788, 0.018230277185501065, 0.02817211400902388, 0.04170324846356453, 0.011640417395813079, 0.007770845150311968, 0.03104890604890605, 0.010949618082009806, 0.004982584488763969, 0.014021989742302806, 0.025945945945945945, 0.015490396635981361, 0.005925352180858789, 0.017265385686438317, 0.00685386936729579, 0.015382904588924308, 0.0082486919052016, 0.010509396636993075, 0.03378311829016054, 0.05939716312056738, 0.01893276758352874, 0.006542610927539535, 0.010256410256410256, 0.06905370843989769, 0.00863572709628283, 0.022529441884280594, 0.0051931262424841146, 0.01223683576624753, 0.04267161410018553, 0.055031446540880505, 0.01751452909800175, 0.03996319935598873, 0.03986710963455149, 0.05169340463458111, 0.008041766662456318, 0.006717725709093269, 0.006423624041111194, 0.0040590934603640305, 0.00266063360389503, 0.003495459296564269, 0.06128364389233954, 0.021005081874647093, 0.09523809523809523, 0.009842951631610294, 0.0430976430976431, 0.012757640369580669, 0.022145451324297988, 0.01846756936577296, 0.028344521960422975, 0.019822282980177717]\n"
     ]
    }
   ],
   "source": [
    "coh_overtime = []\n",
    "for i, x in pedno:\n",
    "    pdedgelist = nx.from_pandas_edgelist(x, source='amendment_id', target = 'person_full_name')\n",
    "    coh_overtime += [cohesiveness(pdedgelist, pdedgelist)]\n",
    "\n",
    "print(coh_overtime)"
   ]
  },
  {
   "cell_type": "code",
   "execution_count": 25,
   "metadata": {},
   "outputs": [],
   "source": [
    "coh_df = pd.DataFrame(coh_overtime)"
   ]
  },
  {
   "cell_type": "code",
   "execution_count": 26,
   "metadata": {},
   "outputs": [
    {
     "data": {
      "text/plain": [
       "<AxesSubplot:>"
      ]
     },
     "execution_count": 26,
     "metadata": {},
     "output_type": "execute_result"
    },
    {
     "data": {
      "image/png": "[encoded data removed]",
      "text/plain": [
       "<Figure size 432x288 with 1 Axes>"
      ]
     },
     "metadata": {
      "needs_background": "light"
     },
     "output_type": "display_data"
    }
   ],
   "source": [
    "coh_df.plot()"
   ]
  },
  {
   "cell_type": "code",
   "execution_count": null,
   "metadata": {},
   "outputs": [],
   "source": []
  }
 ],
 "metadata": {
  "kernelspec": {
   "display_name": "Python 3",
   "language": "python",
   "name": "python3"
  },
  "language_info": {
   "codemirror_mode": {
    "name": "ipython",
    "version": 3
   },
   "file_extension": ".py",
   "mimetype": "text/x-python",
   "name": "python",
   "nbconvert_exporter": "python",
   "pygments_lexer": "ipython3",
   "version": "3.10.12"
  }
 },
 "nbformat": 4,
 "nbformat_minor": 2
}
